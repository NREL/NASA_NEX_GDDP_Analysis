{
 "cells": [
  {
   "cell_type": "code",
   "execution_count": 1,
   "metadata": {},
   "outputs": [
    {
     "name": "stdout",
     "output_type": "stream",
     "text": [
      "['ACCESS-CM2']\n"
     ]
    }
   ],
   "source": [
    "import xarray as xr\n",
    "import numpy as np\n",
    "import matplotlib.pyplot as plt\n",
    "import plotly.graph_objects as go\n",
    "import plotly.express as px\n",
    "import os   \n",
    "import pandas as pd\n",
    "import datetime \n",
    "import math\n",
    "import time\n",
    "from sklearn.linear_model import LinearRegression\n",
    "\n",
    "# Threshold info\n",
    "thresholds_dict = {\n",
    "    'annual_threshold_tasmax_high' : {'variable': 'tasmax', 'value': 35, 'min_max_val': 'greater_than', 'b_consecutive': False},\n",
    "    'annual_threshold_tasmin_high' : {'variable': 'tasmin', 'value': 35, 'min_max_val': 'greater_than', 'b_consecutive': False},\n",
    "    'annual_threshold_tasmax_low' : {'variable': 'tasmax', 'value': 0, 'min_max_val': 'less_than', 'b_consecutive': False},\n",
    "    'annual_threshold_tasmin_low' : {'variable': 'tasmin', 'value': 0, 'min_max_val': 'less_than', 'b_consecutive': False},\n",
    "    # For now keep heat index to maximum values and number of residence days there\n",
    "    'annual_threshold_heatindex_high': {'variable': 'heatindex', 'value': 100, 'min_max_val': 'greater_than', 'b_consecutive': False},\n",
    "    'annual_threshold_precipitation_high': {'variable': 'pr', 'value': 1, 'min_max_val': 'greater_than', 'b_consecutive': False},\n",
    "    'annual_threshold_precipitation_low': {'variable': 'pr', 'value': 1e-3, 'min_max_val': 'less_than', 'b_consecutive': False},\n",
    "    'annual_threshold_consecutive_precipitation_high': {'variable': 'pr', 'value': 1, 'min_max_val': 'greater_than', 'b_consecutive': True},\n",
    "    'annual_threshold_consecutive_precipitation_low': {'variable': 'pr', 'value': 1e-3, 'min_max_val': 'less_than', 'b_consecutive': True},\n",
    "}\n",
    "\n",
    "# Loading Local Information\n",
    "location_name = 'Golden, CO'\n",
    "coord = (39.74256572165156, -105.16857014167543)\n",
    "average_cold = -1.33\n",
    "average_hot = 15.37\n",
    "bool_all_files = False\n",
    "path = 'NEX-GDDP-CMIP6/'\n",
    "\n",
    "# Choose between all files or just a select few\n",
    "if bool_all_files:\n",
    "    # In the future this will be a os.listdir(), for now manually enter names\n",
    "    test_list = os.listdir('NEX-GDDP-CMIP6')\n",
    "    model_experiment_names = []\n",
    "    for item in test_list:\n",
    "        if 'download' in item:\n",
    "            continue\n",
    "        elif '.' in item:\n",
    "            continue\n",
    "        else:\n",
    "            model_experiment_names.append(item)\n",
    "\n",
    "else:\n",
    "    model_experiment_names = ['ACCESS-CM2']\n",
    "\n",
    "experiments = ['ssp245', 'ssp585']\n",
    "\n",
    "print(model_experiment_names)\n"
   ]
  },
  {
   "cell_type": "code",
   "execution_count": 20,
   "metadata": {},
   "outputs": [],
   "source": [
    "\n",
    "class model:\n",
    "    def __init__(self, path, model_name, experiment_name):\n",
    "        self.path = path\n",
    "        self.model_name = model_name\n",
    "        self.experiment_name = experiment_name\n",
    "        self.time_freq = 'day'\n",
    "        #self.experiments = ['rcp45', 'rcp85']\n",
    "        self.bool_data_compiled = False\n",
    "        self.data_lat = 0.0\n",
    "        self.data_lon = 0.0\n",
    "\n",
    "        self.variables_to_compile = [\n",
    "            'hurs',\n",
    "            'pr', # precipitation\n",
    "            'sfcWind', # wind\n",
    "            'tas', 'tasmax', 'tasmin'] #temperature\n",
    "\n",
    "        # Creating a placeholder while prototyping\n",
    "        self.annual_variables = ['blank']\n",
    "        self.decade_variables = ['blank']\n",
    "\n",
    "        # Setting up dataframes to handle the variables\n",
    "        if self.time_freq == 'day':\n",
    "            date_time_span = pd.date_range(start = '2006-01-01 12:00:00', end = '2060-12-31 12:00:00', freq = 'd')\n",
    "        self.df_data = pd.DataFrame(np.nan, columns = self.variables_to_compile, index = date_time_span)\n",
    "\n",
    "        col = self.annual_variables\n",
    "        date_time_span = pd.date_range(start = '2010-01-01 12:00:00', end = '2060-01-01 12:00:00', freq = 'y')\n",
    "        self.df_annual = pd.DataFrame(np.nan, columns = self.variables_to_compile, index = date_time_span)\n",
    "\n",
    "        col = self.decade_variables\n",
    "        date_time_span = pd.date_range(start = '2010-01-01 12:00:00', end = '2060-01-01 12:00:00', freq = '10y')\n",
    "        self.df_decade = pd.DataFrame(np.nan, columns = self.variables_to_compile, index = date_time_span)\n",
    "\n",
    "        # Should run this on init and have access to it\n",
    "        self.get_files_and_variables()\n",
    "\n",
    "    # Pulls all the files and variables from a folder containing multiple\n",
    "    # models, frequencies, and experiments\n",
    "    def get_files_and_variables(self):\n",
    "        self.file_list = []\n",
    "        for variable in self.variables_to_compile:\n",
    "            variable_path = self.path+'/'+self.experiment_name+'/r1i1p1f1/'+variable+'/'\n",
    "            filenames = os.listdir(variable_path)            \n",
    "            #print(filenames)\n",
    "\n",
    "            for file in filenames:\n",
    "                self.file_list.append(variable_path+file)\n",
    "\n",
    "        # Saving files and variables to the data list\n",
    "        #self.file_list = temp_file_list      \n",
    "        #self.variable_list = np.unique(np.array(temp_variable_list))\n",
    "        \n",
    "    # For each file, reads a single file and retuns a series/dataframe with the index as datetime and values as the variable name\n",
    "    def read_one_file(self, coord, filename, variable):\n",
    "        handle = xr.open_dataset(filename)\n",
    "\n",
    "        # Geting Lat Long\n",
    "        lat = handle['lat'][...].values\n",
    "        lon = handle['lon'][...].values-180\n",
    "        ilat = np.argmin(np.abs(lat - coord[0]))\n",
    "        ilon = np.argmin(np.abs(lon - coord[1]))\n",
    "        #print(lat[ilat], lon[ilon])\n",
    "        self.data_lat = lat[ilat]\n",
    "        self.data_lon = lon[ilon]\n",
    "        \n",
    "        # Putting into a Data frame\n",
    "        df = pd.DataFrame()\n",
    "        time = handle['time'].values\n",
    "        #time = xr.CFTimeIndex(time)\n",
    "        #print(time)\n",
    "        df.index = pd.Series(time)\n",
    "        df[variable] = handle[variable][:,ilat, ilon].values\n",
    "\n",
    "        # Performing temperature calculation if necessary\n",
    "        if 'tas' in variable:\n",
    "            df[variable] = df[variable]-273.0 # Converting to Celsius and adding model bias\n",
    "        if 'pr' in variable:\n",
    "            df[variable] = df[variable]*86400/25.4 # Converting to Inches\n",
    "        if 'sfc'in variable:\n",
    "            df[variable] = df[variable]*2.2369 #Converting to MPH\n",
    "\n",
    "        return df[variable]\n",
    "\n",
    "\n",
    "    # Stores all the data produced by reading one file into the data frame which can then carry the data with it through the model\n",
    "    def compile_data(self, coord):\n",
    "        print('Data Compiling for ', self.model_name)\n",
    "        # Adding each data file to the internal data frame\n",
    "        #for file in data_files:\n",
    "        for file in self.file_list:\n",
    "            #items = file.split('_')\n",
    "            #variable_name = items[0]\n",
    "\n",
    "            if 'hurs' in file:\n",
    "                variable = 'hurs'\n",
    "            elif 'pr' in file:\n",
    "                variable = 'pr'\n",
    "            elif 'sfcWind' in file:\n",
    "                variable = 'sfcWind'\n",
    "            elif 'tasmax' in file:\n",
    "                variable = 'tasmax'\n",
    "            elif 'tasmin' in file:\n",
    "                variable = 'tasmin'\n",
    "            elif 'tas' in file:\n",
    "                variable = 'tas'\n",
    "            else:\n",
    "                variable = 'null'\n",
    "\n",
    "            try:\n",
    "                temp_series = self.read_one_file(coord, file, variable)\n",
    "                self.df_data.loc[variable] = temp_series\n",
    "            except:\n",
    "                print(file)\n",
    "                continue\n",
    "\n",
    "        # Changing the data compiled boolean to true\n",
    "        self.bool_data_compiled = True\n",
    "        print('Data Compiled!')\n",
    "\n",
    "\n"
   ]
  },
  {
   "cell_type": "code",
   "execution_count": 21,
   "metadata": {},
   "outputs": [
    {
     "name": "stdout",
     "output_type": "stream",
     "text": [
      "ACCESS-CM2\n",
      "ssp245\n",
      "ssp585\n",
      "2\n"
     ]
    }
   ],
   "source": [
    "model_list = []\n",
    "for model_name in model_experiment_names:\n",
    "    print(model_name)\n",
    "    for experiment in experiments:\n",
    "        print(experiment)\n",
    "        model_to_read = model(path+model_name, model_name+'-'+experiment, experiment)\n",
    "        model_list.append(model_to_read)\n",
    " \n",
    "print(len(model_list))\n",
    "\n"
   ]
  },
  {
   "cell_type": "code",
   "execution_count": 23,
   "metadata": {},
   "outputs": [
    {
     "name": "stdout",
     "output_type": "stream",
     "text": [
      "Data Compiling for  ACCESS-CM2-ssp245\n",
      "Data Compiled!\n",
      "Data Compiling for  ACCESS-CM2-ssp585\n",
      "Data Compiled!\n"
     ]
    }
   ],
   "source": [
    "for temp_model in model_list:\n",
    "    temp_model.compile_data(coord)"
   ]
  },
  {
   "cell_type": "code",
   "execution_count": 4,
   "metadata": {},
   "outputs": [
    {
     "data": {
      "text/plain": [
       "\"from analyze_model import analyze_model\\n\\n# Analyzing each model data\\nfor item in model_list:\\n    try:\\n        analyze_model(item, thresholds_dict, average_cold, average_hot)\\n        path = 'output_data/'\\n        item.df_decade.to_excel(path+item.model_name+'_decade_values.xlsx')\\n    except: \\n        print('Cannot analyze model: ', item, ' insufficient data')\""
      ]
     },
     "execution_count": 4,
     "metadata": {},
     "output_type": "execute_result"
    }
   ],
   "source": [
    "'''from analyze_model import analyze_model\n",
    "\n",
    "# Analyzing each model data\n",
    "for item in model_list:\n",
    "    try:\n",
    "        analyze_model(item, thresholds_dict, average_cold, average_hot)\n",
    "        path = 'output_data/'\n",
    "        item.df_decade.to_excel(path+item.model_name+'_decade_values.xlsx')\n",
    "    except: \n",
    "        print('Cannot analyze model: ', item, ' insufficient data')'''"
   ]
  },
  {
   "cell_type": "code",
   "execution_count": 5,
   "metadata": {},
   "outputs": [
    {
     "data": {
      "text/plain": [
       "\"from graphing import *\\n\\n# Graphing Models\\nfor item in model_list:\\n    #item = model_list[0]\\n    variable_list = item.df_decade.columns\\n    #print(variable_list)\\n    for variable in variable_list:\\n\\n        if 'Days' in variable:\\n            unit = 'Days per Year'\\n        elif 'Frequency' in variable:\\n            unit = 'Average Occurrences per Year'\\n        elif 'Duration' in variable:\\n            unit = 'Days'\\n        elif ('temperature' in variable) or ('Temperature' in variable):\\n            unit = 'Temperature (°C)'\\n        elif ('precipitation' in variable) or ('Precipitation' in variable):\\n            unit = 'Precipitation (inches)'\\n        else:\\n            unit = 'Not Assigned'\\n\\n        graph_write_decade_variable(item, variable, unit)    \\n    \\n    print('Graphing Complete')\""
      ]
     },
     "execution_count": 5,
     "metadata": {},
     "output_type": "execute_result"
    }
   ],
   "source": [
    "'''from graphing import *\n",
    "\n",
    "# Graphing Models\n",
    "for item in model_list:\n",
    "    #item = model_list[0]\n",
    "    variable_list = item.df_decade.columns\n",
    "    #print(variable_list)\n",
    "    for variable in variable_list:\n",
    "\n",
    "        if 'Days' in variable:\n",
    "            unit = 'Days per Year'\n",
    "        elif 'Frequency' in variable:\n",
    "            unit = 'Average Occurrences per Year'\n",
    "        elif 'Duration' in variable:\n",
    "            unit = 'Days'\n",
    "        elif ('temperature' in variable) or ('Temperature' in variable):\n",
    "            unit = 'Temperature (°C)'\n",
    "        elif ('precipitation' in variable) or ('Precipitation' in variable):\n",
    "            unit = 'Precipitation (inches)'\n",
    "        else:\n",
    "            unit = 'Not Assigned'\n",
    "\n",
    "        graph_write_decade_variable(item, variable, unit)    \n",
    "    \n",
    "    print('Graphing Complete')'''"
   ]
  },
  {
   "cell_type": "code",
   "execution_count": null,
   "metadata": {},
   "outputs": [],
   "source": []
  }
 ],
 "metadata": {
  "kernelspec": {
   "display_name": "Python 3.9.13 ('base')",
   "language": "python",
   "name": "python3"
  },
  "language_info": {
   "codemirror_mode": {
    "name": "ipython",
    "version": 3
   },
   "file_extension": ".py",
   "mimetype": "text/x-python",
   "name": "python",
   "nbconvert_exporter": "python",
   "pygments_lexer": "ipython3",
   "version": "3.9.13"
  },
  "orig_nbformat": 4,
  "vscode": {
   "interpreter": {
    "hash": "c6e4e9f98eb68ad3b7c296f83d20e6de614cb42e90992a65aa266555a3137d0d"
   }
  }
 },
 "nbformat": 4,
 "nbformat_minor": 2
}
