{
 "cells": [
  {
   "cell_type": "code",
   "execution_count": 1,
   "metadata": {},
   "outputs": [],
   "source": [
    "#import netCDF4 as nc\n",
    "import xarray as xr\n",
    "import numpy as np\n",
    "import matplotlib.pyplot as plt\n",
    "import plotly.graph_objects as go\n",
    "import os   \n",
    "import pandas as pd\n",
    "import datetime "
   ]
  },
  {
   "cell_type": "code",
   "execution_count": 2,
   "metadata": {},
   "outputs": [
    {
     "data": {
      "text/plain": [
       "['tas_day_ACCESS-CM2_ssp245_r1i1p1f1_gn_2015.nc',\n",
       " 'tas_day_ACCESS-CM2_ssp245_r1i1p1f1_gn_2016.nc',\n",
       " 'tas_day_ACCESS-CM2_ssp245_r1i1p1f1_gn_2017.nc',\n",
       " 'tas_day_ACCESS-CM2_ssp245_r1i1p1f1_gn_2018.nc',\n",
       " 'tas_day_ACCESS-CM2_ssp245_r1i1p1f1_gn_2019.nc',\n",
       " 'tas_day_ACCESS-CM2_ssp245_r1i1p1f1_gn_2020.nc',\n",
       " 'tas_day_ACCESS-CM2_ssp245_r1i1p1f1_gn_2021.nc',\n",
       " 'tas_day_ACCESS-CM2_ssp245_r1i1p1f1_gn_2022.nc',\n",
       " 'tas_day_ACCESS-CM2_ssp245_r1i1p1f1_gn_2023.nc',\n",
       " 'tas_day_ACCESS-CM2_ssp245_r1i1p1f1_gn_2024.nc',\n",
       " 'tas_day_ACCESS-CM2_ssp245_r1i1p1f1_gn_2025.nc',\n",
       " 'tas_day_ACCESS-CM2_ssp245_r1i1p1f1_gn_2026.nc',\n",
       " 'tas_day_ACCESS-CM2_ssp245_r1i1p1f1_gn_2027.nc',\n",
       " 'tas_day_ACCESS-CM2_ssp245_r1i1p1f1_gn_2028.nc',\n",
       " 'tas_day_ACCESS-CM2_ssp245_r1i1p1f1_gn_2029.nc',\n",
       " 'tas_day_ACCESS-CM2_ssp245_r1i1p1f1_gn_2030.nc',\n",
       " 'tas_day_ACCESS-CM2_ssp245_r1i1p1f1_gn_2031.nc',\n",
       " 'tas_day_ACCESS-CM2_ssp245_r1i1p1f1_gn_2032.nc',\n",
       " 'tas_day_ACCESS-CM2_ssp245_r1i1p1f1_gn_2033.nc',\n",
       " 'tas_day_ACCESS-CM2_ssp245_r1i1p1f1_gn_2034.nc',\n",
       " 'tas_day_ACCESS-CM2_ssp245_r1i1p1f1_gn_2035.nc',\n",
       " 'tas_day_ACCESS-CM2_ssp245_r1i1p1f1_gn_2036.nc',\n",
       " 'tas_day_ACCESS-CM2_ssp245_r1i1p1f1_gn_2037.nc',\n",
       " 'tas_day_ACCESS-CM2_ssp245_r1i1p1f1_gn_2038.nc',\n",
       " 'tas_day_ACCESS-CM2_ssp245_r1i1p1f1_gn_2039.nc',\n",
       " 'tas_day_ACCESS-CM2_ssp245_r1i1p1f1_gn_2040.nc',\n",
       " 'tas_day_ACCESS-CM2_ssp245_r1i1p1f1_gn_2041.nc',\n",
       " 'tas_day_ACCESS-CM2_ssp245_r1i1p1f1_gn_2042.nc',\n",
       " 'tas_day_ACCESS-CM2_ssp245_r1i1p1f1_gn_2043.nc',\n",
       " 'tas_day_ACCESS-CM2_ssp245_r1i1p1f1_gn_2044.nc',\n",
       " 'tas_day_ACCESS-CM2_ssp245_r1i1p1f1_gn_2045.nc',\n",
       " 'tas_day_ACCESS-CM2_ssp245_r1i1p1f1_gn_2046.nc',\n",
       " 'tas_day_ACCESS-CM2_ssp245_r1i1p1f1_gn_2047.nc',\n",
       " 'tas_day_ACCESS-CM2_ssp245_r1i1p1f1_gn_2048.nc',\n",
       " 'tas_day_ACCESS-CM2_ssp245_r1i1p1f1_gn_2049.nc',\n",
       " 'tas_day_ACCESS-CM2_ssp245_r1i1p1f1_gn_2050.nc',\n",
       " 'tas_day_ACCESS-CM2_ssp245_r1i1p1f1_gn_2051.nc',\n",
       " 'tas_day_ACCESS-CM2_ssp245_r1i1p1f1_gn_2052.nc',\n",
       " 'tas_day_ACCESS-CM2_ssp245_r1i1p1f1_gn_2053.nc',\n",
       " 'tas_day_ACCESS-CM2_ssp245_r1i1p1f1_gn_2054.nc',\n",
       " 'tas_day_ACCESS-CM2_ssp245_r1i1p1f1_gn_2055.nc',\n",
       " 'tas_day_ACCESS-CM2_ssp245_r1i1p1f1_gn_2056.nc',\n",
       " 'tas_day_ACCESS-CM2_ssp245_r1i1p1f1_gn_2057.nc',\n",
       " 'tas_day_ACCESS-CM2_ssp245_r1i1p1f1_gn_2058.nc',\n",
       " 'tas_day_ACCESS-CM2_ssp245_r1i1p1f1_gn_2059.nc',\n",
       " 'tas_day_ACCESS-CM2_ssp245_r1i1p1f1_gn_2060.nc']"
      ]
     },
     "execution_count": 2,
     "metadata": {},
     "output_type": "execute_result"
    }
   ],
   "source": [
    "path = 'NEX-GDDP-CMIP6/ACCESS-CM2/ssp245/r1i1p1f1/tas/'\n",
    "files = os.listdir(path)\n",
    "files.sort()\n",
    "files"
   ]
  },
  {
   "cell_type": "code",
   "execution_count": 3,
   "metadata": {},
   "outputs": [
    {
     "data": {
      "text/html": [
       "<div><svg style=\"position: absolute; width: 0; height: 0; overflow: hidden\">\n",
       "<defs>\n",
       "<symbol id=\"icon-database\" viewBox=\"0 0 32 32\">\n",
       "<path d=\"M16 0c-8.837 0-16 2.239-16 5v4c0 2.761 7.163 5 16 5s16-2.239 16-5v-4c0-2.761-7.163-5-16-5z\"></path>\n",
       "<path d=\"M16 17c-8.837 0-16-2.239-16-5v6c0 2.761 7.163 5 16 5s16-2.239 16-5v-6c0 2.761-7.163 5-16 5z\"></path>\n",
       "<path d=\"M16 26c-8.837 0-16-2.239-16-5v6c0 2.761 7.163 5 16 5s16-2.239 16-5v-6c0 2.761-7.163 5-16 5z\"></path>\n",
       "</symbol>\n",
       "<symbol id=\"icon-file-text2\" viewBox=\"0 0 32 32\">\n",
       "<path d=\"M28.681 7.159c-0.694-0.947-1.662-2.053-2.724-3.116s-2.169-2.030-3.116-2.724c-1.612-1.182-2.393-1.319-2.841-1.319h-15.5c-1.378 0-2.5 1.121-2.5 2.5v27c0 1.378 1.122 2.5 2.5 2.5h23c1.378 0 2.5-1.122 2.5-2.5v-19.5c0-0.448-0.137-1.23-1.319-2.841zM24.543 5.457c0.959 0.959 1.712 1.825 2.268 2.543h-4.811v-4.811c0.718 0.556 1.584 1.309 2.543 2.268zM28 29.5c0 0.271-0.229 0.5-0.5 0.5h-23c-0.271 0-0.5-0.229-0.5-0.5v-27c0-0.271 0.229-0.5 0.5-0.5 0 0 15.499-0 15.5 0v7c0 0.552 0.448 1 1 1h7v19.5z\"></path>\n",
       "<path d=\"M23 26h-14c-0.552 0-1-0.448-1-1s0.448-1 1-1h14c0.552 0 1 0.448 1 1s-0.448 1-1 1z\"></path>\n",
       "<path d=\"M23 22h-14c-0.552 0-1-0.448-1-1s0.448-1 1-1h14c0.552 0 1 0.448 1 1s-0.448 1-1 1z\"></path>\n",
       "<path d=\"M23 18h-14c-0.552 0-1-0.448-1-1s0.448-1 1-1h14c0.552 0 1 0.448 1 1s-0.448 1-1 1z\"></path>\n",
       "</symbol>\n",
       "</defs>\n",
       "</svg>\n",
       "<style>/* CSS stylesheet for displaying xarray objects in jupyterlab.\n",
       " *\n",
       " */\n",
       "\n",
       ":root {\n",
       "  --xr-font-color0: var(--jp-content-font-color0, rgba(0, 0, 0, 1));\n",
       "  --xr-font-color2: var(--jp-content-font-color2, rgba(0, 0, 0, 0.54));\n",
       "  --xr-font-color3: var(--jp-content-font-color3, rgba(0, 0, 0, 0.38));\n",
       "  --xr-border-color: var(--jp-border-color2, #e0e0e0);\n",
       "  --xr-disabled-color: var(--jp-layout-color3, #bdbdbd);\n",
       "  --xr-background-color: var(--jp-layout-color0, white);\n",
       "  --xr-background-color-row-even: var(--jp-layout-color1, white);\n",
       "  --xr-background-color-row-odd: var(--jp-layout-color2, #eeeeee);\n",
       "}\n",
       "\n",
       "html[theme=dark],\n",
       "body.vscode-dark {\n",
       "  --xr-font-color0: rgba(255, 255, 255, 1);\n",
       "  --xr-font-color2: rgba(255, 255, 255, 0.54);\n",
       "  --xr-font-color3: rgba(255, 255, 255, 0.38);\n",
       "  --xr-border-color: #1F1F1F;\n",
       "  --xr-disabled-color: #515151;\n",
       "  --xr-background-color: #111111;\n",
       "  --xr-background-color-row-even: #111111;\n",
       "  --xr-background-color-row-odd: #313131;\n",
       "}\n",
       "\n",
       ".xr-wrap {\n",
       "  display: block;\n",
       "  min-width: 300px;\n",
       "  max-width: 700px;\n",
       "}\n",
       "\n",
       ".xr-text-repr-fallback {\n",
       "  /* fallback to plain text repr when CSS is not injected (untrusted notebook) */\n",
       "  display: none;\n",
       "}\n",
       "\n",
       ".xr-header {\n",
       "  padding-top: 6px;\n",
       "  padding-bottom: 6px;\n",
       "  margin-bottom: 4px;\n",
       "  border-bottom: solid 1px var(--xr-border-color);\n",
       "}\n",
       "\n",
       ".xr-header > div,\n",
       ".xr-header > ul {\n",
       "  display: inline;\n",
       "  margin-top: 0;\n",
       "  margin-bottom: 0;\n",
       "}\n",
       "\n",
       ".xr-obj-type,\n",
       ".xr-array-name {\n",
       "  margin-left: 2px;\n",
       "  margin-right: 10px;\n",
       "}\n",
       "\n",
       ".xr-obj-type {\n",
       "  color: var(--xr-font-color2);\n",
       "}\n",
       "\n",
       ".xr-sections {\n",
       "  padding-left: 0 !important;\n",
       "  display: grid;\n",
       "  grid-template-columns: 150px auto auto 1fr 20px 20px;\n",
       "}\n",
       "\n",
       ".xr-section-item {\n",
       "  display: contents;\n",
       "}\n",
       "\n",
       ".xr-section-item input {\n",
       "  display: none;\n",
       "}\n",
       "\n",
       ".xr-section-item input + label {\n",
       "  color: var(--xr-disabled-color);\n",
       "}\n",
       "\n",
       ".xr-section-item input:enabled + label {\n",
       "  cursor: pointer;\n",
       "  color: var(--xr-font-color2);\n",
       "}\n",
       "\n",
       ".xr-section-item input:enabled + label:hover {\n",
       "  color: var(--xr-font-color0);\n",
       "}\n",
       "\n",
       ".xr-section-summary {\n",
       "  grid-column: 1;\n",
       "  color: var(--xr-font-color2);\n",
       "  font-weight: 500;\n",
       "}\n",
       "\n",
       ".xr-section-summary > span {\n",
       "  display: inline-block;\n",
       "  padding-left: 0.5em;\n",
       "}\n",
       "\n",
       ".xr-section-summary-in:disabled + label {\n",
       "  color: var(--xr-font-color2);\n",
       "}\n",
       "\n",
       ".xr-section-summary-in + label:before {\n",
       "  display: inline-block;\n",
       "  content: '►';\n",
       "  font-size: 11px;\n",
       "  width: 15px;\n",
       "  text-align: center;\n",
       "}\n",
       "\n",
       ".xr-section-summary-in:disabled + label:before {\n",
       "  color: var(--xr-disabled-color);\n",
       "}\n",
       "\n",
       ".xr-section-summary-in:checked + label:before {\n",
       "  content: '▼';\n",
       "}\n",
       "\n",
       ".xr-section-summary-in:checked + label > span {\n",
       "  display: none;\n",
       "}\n",
       "\n",
       ".xr-section-summary,\n",
       ".xr-section-inline-details {\n",
       "  padding-top: 4px;\n",
       "  padding-bottom: 4px;\n",
       "}\n",
       "\n",
       ".xr-section-inline-details {\n",
       "  grid-column: 2 / -1;\n",
       "}\n",
       "\n",
       ".xr-section-details {\n",
       "  display: none;\n",
       "  grid-column: 1 / -1;\n",
       "  margin-bottom: 5px;\n",
       "}\n",
       "\n",
       ".xr-section-summary-in:checked ~ .xr-section-details {\n",
       "  display: contents;\n",
       "}\n",
       "\n",
       ".xr-array-wrap {\n",
       "  grid-column: 1 / -1;\n",
       "  display: grid;\n",
       "  grid-template-columns: 20px auto;\n",
       "}\n",
       "\n",
       ".xr-array-wrap > label {\n",
       "  grid-column: 1;\n",
       "  vertical-align: top;\n",
       "}\n",
       "\n",
       ".xr-preview {\n",
       "  color: var(--xr-font-color3);\n",
       "}\n",
       "\n",
       ".xr-array-preview,\n",
       ".xr-array-data {\n",
       "  padding: 0 5px !important;\n",
       "  grid-column: 2;\n",
       "}\n",
       "\n",
       ".xr-array-data,\n",
       ".xr-array-in:checked ~ .xr-array-preview {\n",
       "  display: none;\n",
       "}\n",
       "\n",
       ".xr-array-in:checked ~ .xr-array-data,\n",
       ".xr-array-preview {\n",
       "  display: inline-block;\n",
       "}\n",
       "\n",
       ".xr-dim-list {\n",
       "  display: inline-block !important;\n",
       "  list-style: none;\n",
       "  padding: 0 !important;\n",
       "  margin: 0;\n",
       "}\n",
       "\n",
       ".xr-dim-list li {\n",
       "  display: inline-block;\n",
       "  padding: 0;\n",
       "  margin: 0;\n",
       "}\n",
       "\n",
       ".xr-dim-list:before {\n",
       "  content: '(';\n",
       "}\n",
       "\n",
       ".xr-dim-list:after {\n",
       "  content: ')';\n",
       "}\n",
       "\n",
       ".xr-dim-list li:not(:last-child):after {\n",
       "  content: ',';\n",
       "  padding-right: 5px;\n",
       "}\n",
       "\n",
       ".xr-has-index {\n",
       "  font-weight: bold;\n",
       "}\n",
       "\n",
       ".xr-var-list,\n",
       ".xr-var-item {\n",
       "  display: contents;\n",
       "}\n",
       "\n",
       ".xr-var-item > div,\n",
       ".xr-var-item label,\n",
       ".xr-var-item > .xr-var-name span {\n",
       "  background-color: var(--xr-background-color-row-even);\n",
       "  margin-bottom: 0;\n",
       "}\n",
       "\n",
       ".xr-var-item > .xr-var-name:hover span {\n",
       "  padding-right: 5px;\n",
       "}\n",
       "\n",
       ".xr-var-list > li:nth-child(odd) > div,\n",
       ".xr-var-list > li:nth-child(odd) > label,\n",
       ".xr-var-list > li:nth-child(odd) > .xr-var-name span {\n",
       "  background-color: var(--xr-background-color-row-odd);\n",
       "}\n",
       "\n",
       ".xr-var-name {\n",
       "  grid-column: 1;\n",
       "}\n",
       "\n",
       ".xr-var-dims {\n",
       "  grid-column: 2;\n",
       "}\n",
       "\n",
       ".xr-var-dtype {\n",
       "  grid-column: 3;\n",
       "  text-align: right;\n",
       "  color: var(--xr-font-color2);\n",
       "}\n",
       "\n",
       ".xr-var-preview {\n",
       "  grid-column: 4;\n",
       "}\n",
       "\n",
       ".xr-var-name,\n",
       ".xr-var-dims,\n",
       ".xr-var-dtype,\n",
       ".xr-preview,\n",
       ".xr-attrs dt {\n",
       "  white-space: nowrap;\n",
       "  overflow: hidden;\n",
       "  text-overflow: ellipsis;\n",
       "  padding-right: 10px;\n",
       "}\n",
       "\n",
       ".xr-var-name:hover,\n",
       ".xr-var-dims:hover,\n",
       ".xr-var-dtype:hover,\n",
       ".xr-attrs dt:hover {\n",
       "  overflow: visible;\n",
       "  width: auto;\n",
       "  z-index: 1;\n",
       "}\n",
       "\n",
       ".xr-var-attrs,\n",
       ".xr-var-data {\n",
       "  display: none;\n",
       "  background-color: var(--xr-background-color) !important;\n",
       "  padding-bottom: 5px !important;\n",
       "}\n",
       "\n",
       ".xr-var-attrs-in:checked ~ .xr-var-attrs,\n",
       ".xr-var-data-in:checked ~ .xr-var-data {\n",
       "  display: block;\n",
       "}\n",
       "\n",
       ".xr-var-data > table {\n",
       "  float: right;\n",
       "}\n",
       "\n",
       ".xr-var-name span,\n",
       ".xr-var-data,\n",
       ".xr-attrs {\n",
       "  padding-left: 25px !important;\n",
       "}\n",
       "\n",
       ".xr-attrs,\n",
       ".xr-var-attrs,\n",
       ".xr-var-data {\n",
       "  grid-column: 1 / -1;\n",
       "}\n",
       "\n",
       "dl.xr-attrs {\n",
       "  padding: 0;\n",
       "  margin: 0;\n",
       "  display: grid;\n",
       "  grid-template-columns: 125px auto;\n",
       "}\n",
       "\n",
       ".xr-attrs dt,\n",
       ".xr-attrs dd {\n",
       "  padding: 0;\n",
       "  margin: 0;\n",
       "  float: left;\n",
       "  padding-right: 10px;\n",
       "  width: auto;\n",
       "}\n",
       "\n",
       ".xr-attrs dt {\n",
       "  font-weight: normal;\n",
       "  grid-column: 1;\n",
       "}\n",
       "\n",
       ".xr-attrs dt:hover span {\n",
       "  display: inline-block;\n",
       "  background: var(--xr-background-color);\n",
       "  padding-right: 10px;\n",
       "}\n",
       "\n",
       ".xr-attrs dd {\n",
       "  grid-column: 2;\n",
       "  white-space: pre-wrap;\n",
       "  word-break: break-all;\n",
       "}\n",
       "\n",
       ".xr-icon-database,\n",
       ".xr-icon-file-text2 {\n",
       "  display: inline-block;\n",
       "  vertical-align: middle;\n",
       "  width: 1em;\n",
       "  height: 1.5em !important;\n",
       "  stroke-width: 0;\n",
       "  stroke: currentColor;\n",
       "  fill: currentColor;\n",
       "}\n",
       "</style><pre class='xr-text-repr-fallback'>&lt;xarray.Dataset&gt;\n",
       "Dimensions:  (time: 365, lat: 600, lon: 1440)\n",
       "Coordinates:\n",
       "  * time     (time) datetime64[ns] 2015-01-01T12:00:00 ... 2015-12-31T12:00:00\n",
       "  * lat      (lat) float64 -59.88 -59.62 -59.38 -59.12 ... 89.38 89.62 89.88\n",
       "  * lon      (lon) float64 0.125 0.375 0.625 0.875 ... 359.1 359.4 359.6 359.9\n",
       "Data variables:\n",
       "    tas      (time, lat, lon) float32 ...\n",
       "Attributes: (12/22)\n",
       "    activity:              NEX-GDDP-CMIP6\n",
       "    contact:               Dr. Rama Nemani: rama.nemani@nasa.gov, Dr. Bridget...\n",
       "    Conventions:           CF-1.7\n",
       "    creation_date:         2021-10-04T14:05:00.876868+00:00\n",
       "    frequency:             day\n",
       "    institution:           NASA Earth Exchange, NASA Ames Research Center, Mo...\n",
       "    ...                    ...\n",
       "    history:               2021-10-04T14:05:00.876868+00:00: install global a...\n",
       "    disclaimer:            This data is considered provisional and subject to...\n",
       "    external_variables:    areacella\n",
       "    cmip6_source_id:       ACCESS-CM2\n",
       "    cmip6_institution_id:  CSIRO-ARCCSS\n",
       "    cmip6_license:         CC-BY-SA 4.0</pre><div class='xr-wrap' hidden><div class='xr-header'><div class='xr-obj-type'>xarray.Dataset</div></div><ul class='xr-sections'><li class='xr-section-item'><input id='section-9a414189-0d80-48d6-a397-a23d7d09b6c9' class='xr-section-summary-in' type='checkbox' disabled ><label for='section-9a414189-0d80-48d6-a397-a23d7d09b6c9' class='xr-section-summary'  title='Expand/collapse section'>Dimensions:</label><div class='xr-section-inline-details'><ul class='xr-dim-list'><li><span class='xr-has-index'>time</span>: 365</li><li><span class='xr-has-index'>lat</span>: 600</li><li><span class='xr-has-index'>lon</span>: 1440</li></ul></div><div class='xr-section-details'></div></li><li class='xr-section-item'><input id='section-03ef5d01-3ae8-4335-b061-1fc8f0f8c1f0' class='xr-section-summary-in' type='checkbox'  checked><label for='section-03ef5d01-3ae8-4335-b061-1fc8f0f8c1f0' class='xr-section-summary' >Coordinates: <span>(3)</span></label><div class='xr-section-inline-details'></div><div class='xr-section-details'><ul class='xr-var-list'><li class='xr-var-item'><div class='xr-var-name'><span class='xr-has-index'>time</span></div><div class='xr-var-dims'>(time)</div><div class='xr-var-dtype'>datetime64[ns]</div><div class='xr-var-preview xr-preview'>2015-01-01T12:00:00 ... 2015-12-...</div><input id='attrs-5592985c-55ff-4ab3-a5e4-3bcd368b3f67' class='xr-var-attrs-in' type='checkbox' ><label for='attrs-5592985c-55ff-4ab3-a5e4-3bcd368b3f67' title='Show/Hide attributes'><svg class='icon xr-icon-file-text2'><use xlink:href='#icon-file-text2'></use></svg></label><input id='data-90e521fe-7ef0-42f4-9c4e-67c6c41478c7' class='xr-var-data-in' type='checkbox'><label for='data-90e521fe-7ef0-42f4-9c4e-67c6c41478c7' title='Show/Hide data repr'><svg class='icon xr-icon-database'><use xlink:href='#icon-database'></use></svg></label><div class='xr-var-attrs'><dl class='xr-attrs'><dt><span>standard_name :</span></dt><dd>time</dd><dt><span>long_name :</span></dt><dd>time</dd><dt><span>axis :</span></dt><dd>T</dd></dl></div><div class='xr-var-data'><pre>array([&#x27;2015-01-01T12:00:00.000000000&#x27;, &#x27;2015-01-02T12:00:00.000000000&#x27;,\n",
       "       &#x27;2015-01-03T12:00:00.000000000&#x27;, ..., &#x27;2015-12-29T12:00:00.000000000&#x27;,\n",
       "       &#x27;2015-12-30T12:00:00.000000000&#x27;, &#x27;2015-12-31T12:00:00.000000000&#x27;],\n",
       "      dtype=&#x27;datetime64[ns]&#x27;)</pre></div></li><li class='xr-var-item'><div class='xr-var-name'><span class='xr-has-index'>lat</span></div><div class='xr-var-dims'>(lat)</div><div class='xr-var-dtype'>float64</div><div class='xr-var-preview xr-preview'>-59.88 -59.62 ... 89.62 89.88</div><input id='attrs-7b24cd5f-af3a-467f-a642-198f38a75a1d' class='xr-var-attrs-in' type='checkbox' ><label for='attrs-7b24cd5f-af3a-467f-a642-198f38a75a1d' title='Show/Hide attributes'><svg class='icon xr-icon-file-text2'><use xlink:href='#icon-file-text2'></use></svg></label><input id='data-3bf82469-926f-458b-8a66-b77cc3664515' class='xr-var-data-in' type='checkbox'><label for='data-3bf82469-926f-458b-8a66-b77cc3664515' title='Show/Hide data repr'><svg class='icon xr-icon-database'><use xlink:href='#icon-database'></use></svg></label><div class='xr-var-attrs'><dl class='xr-attrs'><dt><span>units :</span></dt><dd>degrees_north</dd><dt><span>standard_name :</span></dt><dd>latitude</dd><dt><span>long_name :</span></dt><dd>latitude</dd><dt><span>axis :</span></dt><dd>Y</dd></dl></div><div class='xr-var-data'><pre>array([-59.875, -59.625, -59.375, ...,  89.375,  89.625,  89.875])</pre></div></li><li class='xr-var-item'><div class='xr-var-name'><span class='xr-has-index'>lon</span></div><div class='xr-var-dims'>(lon)</div><div class='xr-var-dtype'>float64</div><div class='xr-var-preview xr-preview'>0.125 0.375 0.625 ... 359.6 359.9</div><input id='attrs-9e831127-e40a-4183-a4dd-9438a7ef1489' class='xr-var-attrs-in' type='checkbox' ><label for='attrs-9e831127-e40a-4183-a4dd-9438a7ef1489' title='Show/Hide attributes'><svg class='icon xr-icon-file-text2'><use xlink:href='#icon-file-text2'></use></svg></label><input id='data-ea3c86bd-8d1d-445e-97a2-698f345e9ad4' class='xr-var-data-in' type='checkbox'><label for='data-ea3c86bd-8d1d-445e-97a2-698f345e9ad4' title='Show/Hide data repr'><svg class='icon xr-icon-database'><use xlink:href='#icon-database'></use></svg></label><div class='xr-var-attrs'><dl class='xr-attrs'><dt><span>units :</span></dt><dd>degrees_east</dd><dt><span>standard_name :</span></dt><dd>longitude</dd><dt><span>long_name :</span></dt><dd>longitude</dd><dt><span>axis :</span></dt><dd>X</dd></dl></div><div class='xr-var-data'><pre>array([1.25000e-01, 3.75000e-01, 6.25000e-01, ..., 3.59375e+02, 3.59625e+02,\n",
       "       3.59875e+02])</pre></div></li></ul></div></li><li class='xr-section-item'><input id='section-26a1354c-9a4e-4bbe-9a37-6eaa792214b6' class='xr-section-summary-in' type='checkbox'  checked><label for='section-26a1354c-9a4e-4bbe-9a37-6eaa792214b6' class='xr-section-summary' >Data variables: <span>(1)</span></label><div class='xr-section-inline-details'></div><div class='xr-section-details'><ul class='xr-var-list'><li class='xr-var-item'><div class='xr-var-name'><span>tas</span></div><div class='xr-var-dims'>(time, lat, lon)</div><div class='xr-var-dtype'>float32</div><div class='xr-var-preview xr-preview'>...</div><input id='attrs-1570bcb0-3fdd-4c1d-8b86-7dae04237654' class='xr-var-attrs-in' type='checkbox' ><label for='attrs-1570bcb0-3fdd-4c1d-8b86-7dae04237654' title='Show/Hide attributes'><svg class='icon xr-icon-file-text2'><use xlink:href='#icon-file-text2'></use></svg></label><input id='data-6ed028d2-f2f7-471f-9f60-d6e96cd8fa6a' class='xr-var-data-in' type='checkbox'><label for='data-6ed028d2-f2f7-471f-9f60-d6e96cd8fa6a' title='Show/Hide data repr'><svg class='icon xr-icon-database'><use xlink:href='#icon-database'></use></svg></label><div class='xr-var-attrs'><dl class='xr-attrs'><dt><span>cell_measures :</span></dt><dd>area: areacella</dd><dt><span>cell_methods :</span></dt><dd>area: mean time: maximum</dd><dt><span>comment :</span></dt><dd>near-surface (usually, 2 meter) air temperature; derived from downscaled tasmax &amp; tasmin</dd><dt><span>units :</span></dt><dd>K</dd><dt><span>long_name :</span></dt><dd>Daily Near-Surface Air Temperature</dd><dt><span>standard_name :</span></dt><dd>air_temperature</dd></dl></div><div class='xr-var-data'><pre>[315360000 values with dtype=float32]</pre></div></li></ul></div></li><li class='xr-section-item'><input id='section-ca93d3cf-f2dd-4fe2-a761-89e98fd0bd76' class='xr-section-summary-in' type='checkbox'  ><label for='section-ca93d3cf-f2dd-4fe2-a761-89e98fd0bd76' class='xr-section-summary' >Attributes: <span>(22)</span></label><div class='xr-section-inline-details'></div><div class='xr-section-details'><dl class='xr-attrs'><dt><span>activity :</span></dt><dd>NEX-GDDP-CMIP6</dd><dt><span>contact :</span></dt><dd>Dr. Rama Nemani: rama.nemani@nasa.gov, Dr. Bridget Thrasher: bridget@climateanalyticsgroup.org</dd><dt><span>Conventions :</span></dt><dd>CF-1.7</dd><dt><span>creation_date :</span></dt><dd>2021-10-04T14:05:00.876868+00:00</dd><dt><span>frequency :</span></dt><dd>day</dd><dt><span>institution :</span></dt><dd>NASA Earth Exchange, NASA Ames Research Center, Moffett Field, CA 94035</dd><dt><span>variant_label :</span></dt><dd>r1i1p1f1</dd><dt><span>product :</span></dt><dd>output</dd><dt><span>realm :</span></dt><dd>atmos</dd><dt><span>source :</span></dt><dd>BCSD</dd><dt><span>scenario :</span></dt><dd>ssp245</dd><dt><span>references :</span></dt><dd>BCSD method: Thrasher et al., 2012, Hydrol. Earth Syst. Sci.,16, 3309-3314. Ref period obs: latest version of the Princeton Global Meteorological Forcings (http://hydrology.princeton.edu/data.php), based on Sheffield et al., 2006, J. Climate, 19 (13), 3088-3111.</dd><dt><span>version :</span></dt><dd>1.0</dd><dt><span>tracking_id :</span></dt><dd>f99fab69-e17d-4f6c-9c19-289fa4b9f95e</dd><dt><span>title :</span></dt><dd>ACCESS-CM2, r1i1p1f1, ssp245, global downscaled CMIP6 climate projection data</dd><dt><span>resolution_id :</span></dt><dd>0.25 degree</dd><dt><span>history :</span></dt><dd>2021-10-04T14:05:00.876868+00:00: install global attributes</dd><dt><span>disclaimer :</span></dt><dd>This data is considered provisional and subject to change. This data is provided as is without any warranty of any kind, either express or implied, arising by law or otherwise, including but not limited to warranties of completeness, non-infringement, accuracy, merchantability, or fitness for a particular purpose. The user assumes all risk associated with the use of, or inability to use, this data.</dd><dt><span>external_variables :</span></dt><dd>areacella</dd><dt><span>cmip6_source_id :</span></dt><dd>ACCESS-CM2</dd><dt><span>cmip6_institution_id :</span></dt><dd>CSIRO-ARCCSS</dd><dt><span>cmip6_license :</span></dt><dd>CC-BY-SA 4.0</dd></dl></div></li></ul></div></div>"
      ],
      "text/plain": [
       "<xarray.Dataset>\n",
       "Dimensions:  (time: 365, lat: 600, lon: 1440)\n",
       "Coordinates:\n",
       "  * time     (time) datetime64[ns] 2015-01-01T12:00:00 ... 2015-12-31T12:00:00\n",
       "  * lat      (lat) float64 -59.88 -59.62 -59.38 -59.12 ... 89.38 89.62 89.88\n",
       "  * lon      (lon) float64 0.125 0.375 0.625 0.875 ... 359.1 359.4 359.6 359.9\n",
       "Data variables:\n",
       "    tas      (time, lat, lon) float32 ...\n",
       "Attributes: (12/22)\n",
       "    activity:              NEX-GDDP-CMIP6\n",
       "    contact:               Dr. Rama Nemani: rama.nemani@nasa.gov, Dr. Bridget...\n",
       "    Conventions:           CF-1.7\n",
       "    creation_date:         2021-10-04T14:05:00.876868+00:00\n",
       "    frequency:             day\n",
       "    institution:           NASA Earth Exchange, NASA Ames Research Center, Mo...\n",
       "    ...                    ...\n",
       "    history:               2021-10-04T14:05:00.876868+00:00: install global a...\n",
       "    disclaimer:            This data is considered provisional and subject to...\n",
       "    external_variables:    areacella\n",
       "    cmip6_source_id:       ACCESS-CM2\n",
       "    cmip6_institution_id:  CSIRO-ARCCSS\n",
       "    cmip6_license:         CC-BY-SA 4.0"
      ]
     },
     "execution_count": 3,
     "metadata": {},
     "output_type": "execute_result"
    }
   ],
   "source": [
    "file_num = 0\n",
    "\n",
    "filename = path + files[file_num]\n",
    "\n",
    "handle =  xr.open_dataset(filename_or_obj = filename, engine = 'netcdf4')\n",
    "handle"
   ]
  },
  {
   "cell_type": "code",
   "execution_count": 4,
   "metadata": {},
   "outputs": [
    {
     "name": "stdout",
     "output_type": "stream",
     "text": [
      "383 357\n"
     ]
    },
    {
     "data": {
      "text/plain": [
       "(35.875, -90.625)"
      ]
     },
     "execution_count": 4,
     "metadata": {},
     "output_type": "execute_result"
    }
   ],
   "source": [
    "lat = handle['lat'][...].values\n",
    "lon = handle['lon'][...].values-180\n",
    "\n",
    "coord = (32.37357630353862, -103.79335684602837)\n",
    "coord = (36.15526147516037, -95.99268219877429)\n",
    "coord = (35.83539400078147, -90.69933090097284)\n",
    "ilat = np.argmin(np.abs(lat - coord[0]))\n",
    "ilon = np.argmin(np.abs(lon - coord[1]))\n",
    "print(ilat, ilon)\n",
    "lat[ilat], lon[ilon]"
   ]
  },
  {
   "cell_type": "code",
   "execution_count": 5,
   "metadata": {},
   "outputs": [
    {
     "name": "stdout",
     "output_type": "stream",
     "text": [
      "tas\n"
     ]
    }
   ],
   "source": [
    "variable = files[file_num].split('_')\n",
    "variable = variable[0]\n",
    "print(variable)"
   ]
  },
  {
   "cell_type": "code",
   "execution_count": 6,
   "metadata": {},
   "outputs": [],
   "source": [
    "\n",
    "temp_data = handle[variable][:,ilat, ilon].values\n",
    "date_time = handle['time'].values"
   ]
  },
  {
   "cell_type": "code",
   "execution_count": 7,
   "metadata": {},
   "outputs": [
    {
     "data": {
      "text/plain": [
       "[<matplotlib.lines.Line2D at 0x16c4def40>]"
      ]
     },
     "execution_count": 7,
     "metadata": {},
     "output_type": "execute_result"
    },
    {
     "data": {
      "image/png": "[encoded data removed]",
      "text/plain": [
       "<Figure size 432x288 with 1 Axes>"
      ]
     },
     "metadata": {
      "needs_background": "light"
     },
     "output_type": "display_data"
    }
   ],
   "source": [
    "plt.plot(temp_data)"
   ]
  },
  {
   "cell_type": "code",
   "execution_count": 8,
   "metadata": {},
   "outputs": [
    {
     "name": "stdout",
     "output_type": "stream",
     "text": [
      "365\n"
     ]
    }
   ],
   "source": [
    "print(len(temp_data))"
   ]
  },
  {
   "cell_type": "code",
   "execution_count": 9,
   "metadata": {},
   "outputs": [
    {
     "name": "stdout",
     "output_type": "stream",
     "text": [
      "365\n"
     ]
    }
   ],
   "source": [
    "print(len(date_time))"
   ]
  },
  {
   "cell_type": "code",
   "execution_count": 10,
   "metadata": {},
   "outputs": [
    {
     "data": {
      "application/vnd.plotly.v1+json": {
       "config": {
        "plotlyServerURL": "https://plot.ly"
       },
       "data": [
        {
         "mode": "markers",
         "type": "scatter",
         "x": [
          "2015-01-01T12:00:00.000000000",
          "2015-01-02T12:00:00.000000000",
          "2015-01-03T12:00:00.000000000",
          "2015-01-04T12:00:00.000000000",
          "2015-01-05T12:00:00.000000000",
          "2015-01-06T12:00:00.000000000",
          "2015-01-07T12:00:00.000000000",
          "2015-01-08T12:00:00.000000000",
          "2015-01-09T12:00:00.000000000",
          "2015-01-10T12:00:00.000000000",
          "2015-01-11T12:00:00.000000000",
          "2015-01-12T12:00:00.000000000",
          "2015-01-13T12:00:00.000000000",
          "2015-01-14T12:00:00.000000000",
          "2015-01-15T12:00:00.000000000",
          "2015-01-16T12:00:00.000000000",
          "2015-01-17T12:00:00.000000000",
          "2015-01-18T12:00:00.000000000",
          "2015-01-19T12:00:00.000000000",
          "2015-01-20T12:00:00.000000000",
          "2015-01-21T12:00:00.000000000",
          "2015-01-22T12:00:00.000000000",
          "2015-01-23T12:00:00.000000000",
          "2015-01-24T12:00:00.000000000",
          "2015-01-25T12:00:00.000000000",
          "2015-01-26T12:00:00.000000000",
          "2015-01-27T12:00:00.000000000",
          "2015-01-28T12:00:00.000000000",
          "2015-01-29T12:00:00.000000000",
          "2015-01-30T12:00:00.000000000",
          "2015-01-31T12:00:00.000000000",
          "2015-02-01T12:00:00.000000000",
          "2015-02-02T12:00:00.000000000",
          "2015-02-03T12:00:00.000000000",
          "2015-02-04T12:00:00.000000000",
          "2015-02-05T12:00:00.000000000",
          "2015-02-06T12:00:00.000000000",
          "2015-02-07T12:00:00.000000000",
          "2015-02-08T12:00:00.000000000",
          "2015-02-09T12:00:00.000000000",
          "2015-02-10T12:00:00.000000000",
          "2015-02-11T12:00:00.000000000",
          "2015-02-12T12:00:00.000000000",
          "2015-02-13T12:00:00.000000000",
          "2015-02-14T12:00:00.000000000",
          "2015-02-15T12:00:00.000000000",
          "2015-02-16T12:00:00.000000000",
          "2015-02-17T12:00:00.000000000",
          "2015-02-18T12:00:00.000000000",
          "2015-02-19T12:00:00.000000000",
          "2015-02-20T12:00:00.000000000",
          "2015-02-21T12:00:00.000000000",
          "2015-02-22T12:00:00.000000000",
          "2015-02-23T12:00:00.000000000",
          "2015-02-24T12:00:00.000000000",
          "2015-02-25T12:00:00.000000000",
          "2015-02-26T12:00:00.000000000",
          "2015-02-27T12:00:00.000000000",
          "2015-02-28T12:00:00.000000000",
          "2015-03-01T12:00:00.000000000",
          "2015-03-02T12:00:00.000000000",
          "2015-03-03T12:00:00.000000000",
          "2015-03-04T12:00:00.000000000",
          "2015-03-05T12:00:00.000000000",
          "2015-03-06T12:00:00.000000000",
          "2015-03-07T12:00:00.000000000",
          "2015-03-08T12:00:00.000000000",
          "2015-03-09T12:00:00.000000000",
          "2015-03-10T12:00:00.000000000",
          "2015-03-11T12:00:00.000000000",
          "2015-03-12T12:00:00.000000000",
          "2015-03-13T12:00:00.000000000",
          "2015-03-14T12:00:00.000000000",
          "2015-03-15T12:00:00.000000000",
          "2015-03-16T12:00:00.000000000",
          "2015-03-17T12:00:00.000000000",
          "2015-03-18T12:00:00.000000000",
          "2015-03-19T12:00:00.000000000",
          "2015-03-20T12:00:00.000000000",
          "2015-03-21T12:00:00.000000000",
          "2015-03-22T12:00:00.000000000",
          "2015-03-23T12:00:00.000000000",
          "2015-03-24T12:00:00.000000000",
          "2015-03-25T12:00:00.000000000",
          "2015-03-26T12:00:00.000000000",
          "2015-03-27T12:00:00.000000000",
          "2015-03-28T12:00:00.000000000",
          "2015-03-29T12:00:00.000000000",
          "2015-03-30T12:00:00.000000000",
          "2015-03-31T12:00:00.000000000",
          "2015-04-01T12:00:00.000000000",
          "2015-04-02T12:00:00.000000000",
          "2015-04-03T12:00:00.000000000",
          "2015-04-04T12:00:00.000000000",
          "2015-04-05T12:00:00.000000000",
          "2015-04-06T12:00:00.000000000",
          "2015-04-07T12:00:00.000000000",
          "2015-04-08T12:00:00.000000000",
          "2015-04-09T12:00:00.000000000",
          "2015-04-10T12:00:00.000000000",
          "2015-04-11T12:00:00.000000000",
          "2015-04-12T12:00:00.000000000",
          "2015-04-13T12:00:00.000000000",
          "2015-04-14T12:00:00.000000000",
          "2015-04-15T12:00:00.000000000",
          "2015-04-16T12:00:00.000000000",
          "2015-04-17T12:00:00.000000000",
          "2015-04-18T12:00:00.000000000",
          "2015-04-19T12:00:00.000000000",
          "2015-04-20T12:00:00.000000000",
          "2015-04-21T12:00:00.000000000",
          "2015-04-22T12:00:00.000000000",
          "2015-04-23T12:00:00.000000000",
          "2015-04-24T12:00:00.000000000",
          "2015-04-25T12:00:00.000000000",
          "2015-04-26T12:00:00.000000000",
          "2015-04-27T12:00:00.000000000",
          "2015-04-28T12:00:00.000000000",
          "2015-04-29T12:00:00.000000000",
          "2015-04-30T12:00:00.000000000",
          "2015-05-01T12:00:00.000000000",
          "2015-05-02T12:00:00.000000000",
          "2015-05-03T12:00:00.000000000",
          "2015-05-04T12:00:00.000000000",
          "2015-05-05T12:00:00.000000000",
          "2015-05-06T12:00:00.000000000",
          "2015-05-07T12:00:00.000000000",
          "2015-05-08T12:00:00.000000000",
          "2015-05-09T12:00:00.000000000",
          "2015-05-10T12:00:00.000000000",
          "2015-05-11T12:00:00.000000000",
          "2015-05-12T12:00:00.000000000",
          "2015-05-13T12:00:00.000000000",
          "2015-05-14T12:00:00.000000000",
          "2015-05-15T12:00:00.000000000",
          "2015-05-16T12:00:00.000000000",
          "2015-05-17T12:00:00.000000000",
          "2015-05-18T12:00:00.000000000",
          "2015-05-19T12:00:00.000000000",
          "2015-05-20T12:00:00.000000000",
          "2015-05-21T12:00:00.000000000",
          "2015-05-22T12:00:00.000000000",
          "2015-05-23T12:00:00.000000000",
          "2015-05-24T12:00:00.000000000",
          "2015-05-25T12:00:00.000000000",
          "2015-05-26T12:00:00.000000000",
          "2015-05-27T12:00:00.000000000",
          "2015-05-28T12:00:00.000000000",
          "2015-05-29T12:00:00.000000000",
          "2015-05-30T12:00:00.000000000",
          "2015-05-31T12:00:00.000000000",
          "2015-06-01T12:00:00.000000000",
          "2015-06-02T12:00:00.000000000",
          "2015-06-03T12:00:00.000000000",
          "2015-06-04T12:00:00.000000000",
          "2015-06-05T12:00:00.000000000",
          "2015-06-06T12:00:00.000000000",
          "2015-06-07T12:00:00.000000000",
          "2015-06-08T12:00:00.000000000",
          "2015-06-09T12:00:00.000000000",
          "2015-06-10T12:00:00.000000000",
          "2015-06-11T12:00:00.000000000",
          "2015-06-12T12:00:00.000000000",
          "2015-06-13T12:00:00.000000000",
          "2015-06-14T12:00:00.000000000",
          "2015-06-15T12:00:00.000000000",
          "2015-06-16T12:00:00.000000000",
          "2015-06-17T12:00:00.000000000",
          "2015-06-18T12:00:00.000000000",
          "2015-06-19T12:00:00.000000000",
          "2015-06-20T12:00:00.000000000",
          "2015-06-21T12:00:00.000000000",
          "2015-06-22T12:00:00.000000000",
          "2015-06-23T12:00:00.000000000",
          "2015-06-24T12:00:00.000000000",
          "2015-06-25T12:00:00.000000000",
          "2015-06-26T12:00:00.000000000",
          "2015-06-27T12:00:00.000000000",
          "2015-06-28T12:00:00.000000000",
          "2015-06-29T12:00:00.000000000",
          "2015-06-30T12:00:00.000000000",
          "2015-07-01T12:00:00.000000000",
          "2015-07-02T12:00:00.000000000",
          "2015-07-03T12:00:00.000000000",
          "2015-07-04T12:00:00.000000000",
          "2015-07-05T12:00:00.000000000",
          "2015-07-06T12:00:00.000000000",
          "2015-07-07T12:00:00.000000000",
          "2015-07-08T12:00:00.000000000",
          "2015-07-09T12:00:00.000000000",
          "2015-07-10T12:00:00.000000000",
          "2015-07-11T12:00:00.000000000",
          "2015-07-12T12:00:00.000000000",
          "2015-07-13T12:00:00.000000000",
          "2015-07-14T12:00:00.000000000",
          "2015-07-15T12:00:00.000000000",
          "2015-07-16T12:00:00.000000000",
          "2015-07-17T12:00:00.000000000",
          "2015-07-18T12:00:00.000000000",
          "2015-07-19T12:00:00.000000000",
          "2015-07-20T12:00:00.000000000",
          "2015-07-21T12:00:00.000000000",
          "2015-07-22T12:00:00.000000000",
          "2015-07-23T12:00:00.000000000",
          "2015-07-24T12:00:00.000000000",
          "2015-07-25T12:00:00.000000000",
          "2015-07-26T12:00:00.000000000",
          "2015-07-27T12:00:00.000000000",
          "2015-07-28T12:00:00.000000000",
          "2015-07-29T12:00:00.000000000",
          "2015-07-30T12:00:00.000000000",
          "2015-07-31T12:00:00.000000000",
          "2015-08-01T12:00:00.000000000",
          "2015-08-02T12:00:00.000000000",
          "2015-08-03T12:00:00.000000000",
          "2015-08-04T12:00:00.000000000",
          "2015-08-05T12:00:00.000000000",
          "2015-08-06T12:00:00.000000000",
          "2015-08-07T12:00:00.000000000",
          "2015-08-08T12:00:00.000000000",
          "2015-08-09T12:00:00.000000000",
          "2015-08-10T12:00:00.000000000",
          "2015-08-11T12:00:00.000000000",
          "2015-08-12T12:00:00.000000000",
          "2015-08-13T12:00:00.000000000",
          "2015-08-14T12:00:00.000000000",
          "2015-08-15T12:00:00.000000000",
          "2015-08-16T12:00:00.000000000",
          "2015-08-17T12:00:00.000000000",
          "2015-08-18T12:00:00.000000000",
          "2015-08-19T12:00:00.000000000",
          "2015-08-20T12:00:00.000000000",
          "2015-08-21T12:00:00.000000000",
          "2015-08-22T12:00:00.000000000",
          "2015-08-23T12:00:00.000000000",
          "2015-08-24T12:00:00.000000000",
          "2015-08-25T12:00:00.000000000",
          "2015-08-26T12:00:00.000000000",
          "2015-08-27T12:00:00.000000000",
          "2015-08-28T12:00:00.000000000",
          "2015-08-29T12:00:00.000000000",
          "2015-08-30T12:00:00.000000000",
          "2015-08-31T12:00:00.000000000",
          "2015-09-01T12:00:00.000000000",
          "2015-09-02T12:00:00.000000000",
          "2015-09-03T12:00:00.000000000",
          "2015-09-04T12:00:00.000000000",
          "2015-09-05T12:00:00.000000000",
          "2015-09-06T12:00:00.000000000",
          "2015-09-07T12:00:00.000000000",
          "2015-09-08T12:00:00.000000000",
          "2015-09-09T12:00:00.000000000",
          "2015-09-10T12:00:00.000000000",
          "2015-09-11T12:00:00.000000000",
          "2015-09-12T12:00:00.000000000",
          "2015-09-13T12:00:00.000000000",
          "2015-09-14T12:00:00.000000000",
          "2015-09-15T12:00:00.000000000",
          "2015-09-16T12:00:00.000000000",
          "2015-09-17T12:00:00.000000000",
          "2015-09-18T12:00:00.000000000",
          "2015-09-19T12:00:00.000000000",
          "2015-09-20T12:00:00.000000000",
          "2015-09-21T12:00:00.000000000",
          "2015-09-22T12:00:00.000000000",
          "2015-09-23T12:00:00.000000000",
          "2015-09-24T12:00:00.000000000",
          "2015-09-25T12:00:00.000000000",
          "2015-09-26T12:00:00.000000000",
          "2015-09-27T12:00:00.000000000",
          "2015-09-28T12:00:00.000000000",
          "2015-09-29T12:00:00.000000000",
          "2015-09-30T12:00:00.000000000",
          "2015-10-01T12:00:00.000000000",
          "2015-10-02T12:00:00.000000000",
          "2015-10-03T12:00:00.000000000",
          "2015-10-04T12:00:00.000000000",
          "2015-10-05T12:00:00.000000000",
          "2015-10-06T12:00:00.000000000",
          "2015-10-07T12:00:00.000000000",
          "2015-10-08T12:00:00.000000000",
          "2015-10-09T12:00:00.000000000",
          "2015-10-10T12:00:00.000000000",
          "2015-10-11T12:00:00.000000000",
          "2015-10-12T12:00:00.000000000",
          "2015-10-13T12:00:00.000000000",
          "2015-10-14T12:00:00.000000000",
          "2015-10-15T12:00:00.000000000",
          "2015-10-16T12:00:00.000000000",
          "2015-10-17T12:00:00.000000000",
          "2015-10-18T12:00:00.000000000",
          "2015-10-19T12:00:00.000000000",
          "2015-10-20T12:00:00.000000000",
          "2015-10-21T12:00:00.000000000",
          "2015-10-22T12:00:00.000000000",
          "2015-10-23T12:00:00.000000000",
          "2015-10-24T12:00:00.000000000",
          "2015-10-25T12:00:00.000000000",
          "2015-10-26T12:00:00.000000000",
          "2015-10-27T12:00:00.000000000",
          "2015-10-28T12:00:00.000000000",
          "2015-10-29T12:00:00.000000000",
          "2015-10-30T12:00:00.000000000",
          "2015-10-31T12:00:00.000000000",
          "2015-11-01T12:00:00.000000000",
          "2015-11-02T12:00:00.000000000",
          "2015-11-03T12:00:00.000000000",
          "2015-11-04T12:00:00.000000000",
          "2015-11-05T12:00:00.000000000",
          "2015-11-06T12:00:00.000000000",
          "2015-11-07T12:00:00.000000000",
          "2015-11-08T12:00:00.000000000",
          "2015-11-09T12:00:00.000000000",
          "2015-11-10T12:00:00.000000000",
          "2015-11-11T12:00:00.000000000",
          "2015-11-12T12:00:00.000000000",
          "2015-11-13T12:00:00.000000000",
          "2015-11-14T12:00:00.000000000",
          "2015-11-15T12:00:00.000000000",
          "2015-11-16T12:00:00.000000000",
          "2015-11-17T12:00:00.000000000",
          "2015-11-18T12:00:00.000000000",
          "2015-11-19T12:00:00.000000000",
          "2015-11-20T12:00:00.000000000",
          "2015-11-21T12:00:00.000000000",
          "2015-11-22T12:00:00.000000000",
          "2015-11-23T12:00:00.000000000",
          "2015-11-24T12:00:00.000000000",
          "2015-11-25T12:00:00.000000000",
          "2015-11-26T12:00:00.000000000",
          "2015-11-27T12:00:00.000000000",
          "2015-11-28T12:00:00.000000000",
          "2015-11-29T12:00:00.000000000",
          "2015-11-30T12:00:00.000000000",
          "2015-12-01T12:00:00.000000000",
          "2015-12-02T12:00:00.000000000",
          "2015-12-03T12:00:00.000000000",
          "2015-12-04T12:00:00.000000000",
          "2015-12-05T12:00:00.000000000",
          "2015-12-06T12:00:00.000000000",
          "2015-12-07T12:00:00.000000000",
          "2015-12-08T12:00:00.000000000",
          "2015-12-09T12:00:00.000000000",
          "2015-12-10T12:00:00.000000000",
          "2015-12-11T12:00:00.000000000",
          "2015-12-12T12:00:00.000000000",
          "2015-12-13T12:00:00.000000000",
          "2015-12-14T12:00:00.000000000",
          "2015-12-15T12:00:00.000000000",
          "2015-12-16T12:00:00.000000000",
          "2015-12-17T12:00:00.000000000",
          "2015-12-18T12:00:00.000000000",
          "2015-12-19T12:00:00.000000000",
          "2015-12-20T12:00:00.000000000",
          "2015-12-21T12:00:00.000000000",
          "2015-12-22T12:00:00.000000000",
          "2015-12-23T12:00:00.000000000",
          "2015-12-24T12:00:00.000000000",
          "2015-12-25T12:00:00.000000000",
          "2015-12-26T12:00:00.000000000",
          "2015-12-27T12:00:00.000000000",
          "2015-12-28T12:00:00.000000000",
          "2015-12-29T12:00:00.000000000",
          "2015-12-30T12:00:00.000000000",
          "2015-12-31T12:00:00.000000000"
         ],
         "y": [
          257.37164306640625,
          257.1622314453125,
          256.3467102050781,
          256.0356140136719,
          256.84393310546875,
          257.72125244140625,
          257.07000732421875,
          257.4909362792969,
          258.7496337890625,
          258.4487609863281,
          257.48614501953125,
          255.01675415039062,
          254.97500610351562,
          254.697021484375,
          254.616455078125,
          255.57833862304688,
          255.43373107910156,
          256.4466552734375,
          256.8829345703125,
          259.2145690917969,
          255.25576782226562,
          254.31996154785156,
          255.20892333984375,
          259.6715393066406,
          258.1895446777344,
          257.7458801269531,
          256.05889892578125,
          254.4958953857422,
          253.1307830810547,
          250.44906616210938,
          250.97506713867188,
          250.4568634033203,
          250.83917236328125,
          254.15109252929688,
          256.40106201171875,
          257.1285400390625,
          257.28900146484375,
          257.23944091796875,
          257.87298583984375,
          257.9037170410156,
          256.8551940917969,
          259.9674377441406,
          260.0543518066406,
          259.5904846191406,
          257.64202880859375,
          257.1319274902344,
          258.3324279785156,
          257.79217529296875,
          257.66552734375,
          257.8426208496094,
          258.3922119140625,
          258.9522399902344,
          258.7549133300781,
          259.53076171875,
          260.480224609375,
          261.51513671875,
          262.3085632324219,
          262.289794921875,
          263.8277282714844,
          266.3633117675781,
          265.91253662109375,
          260.39593505859375,
          260.3224792480469,
          262.1972961425781,
          263.8021545410156,
          266.0894775390625,
          264.795654296875,
          264.31781005859375,
          258.7949523925781,
          257.715087890625,
          261.26116943359375,
          261.69232177734375,
          262.8174133300781,
          264.6815185546875,
          266.8160095214844,
          268.8895263671875,
          266.42041015625,
          267.0242919921875,
          268.20733642578125,
          266.06378173828125,
          264.8638916015625,
          263.54571533203125,
          264.14605712890625,
          264.74627685546875,
          264.4660949707031,
          260.249755859375,
          259.4549255371094,
          260.6485900878906,
          261.28082275390625,
          263.5526428222656,
          264.6999816894531,
          267.6485290527344,
          266.4365234375,
          263.6351013183594,
          260.61474609375,
          259.4639892578125,
          260.5984802246094,
          265.4674072265625,
          268.0183410644531,
          269.3717041015625,
          269.1839599609375,
          267.19891357421875,
          265.3174133300781,
          264.3904724121094,
          264.4539794921875,
          266.66534423828125,
          267.0548095703125,
          269.4525146484375,
          269.20172119140625,
          269.2310791015625,
          267.69775390625,
          267.05926513671875,
          268.9848937988281,
          268.69451904296875,
          267.5999755859375,
          268.060302734375,
          268.7959899902344,
          271.77374267578125,
          271.15625,
          269.34722900390625,
          268.84332275390625,
          270.51092529296875,
          271.817138671875,
          273.8594970703125,
          274.97515869140625,
          274.4033203125,
          274.12017822265625,
          274.3662109375,
          274.2666015625,
          274.642822265625,
          274.25390625,
          273.9828796386719,
          273.40447998046875,
          271.4173583984375,
          271.5293884277344,
          272.59844970703125,
          273.9617614746094,
          274.173583984375,
          275.89398193359375,
          275.88323974609375,
          274.63397216796875,
          272.2103271484375,
          272.513916015625,
          273.56243896484375,
          272.58843994140625,
          269.5043640136719,
          268.47528076171875,
          270.5826110839844,
          274.0096435546875,
          274.8338623046875,
          275.21881103515625,
          275.44140625,
          276.1160888671875,
          274.14654541015625,
          272.9518737792969,
          274.1364440917969,
          274.11163330078125,
          273.5574951171875,
          275.02899169921875,
          275.75225830078125,
          275.36480712890625,
          275.2474670410156,
          277.25506591796875,
          276.97564697265625,
          275.718994140625,
          275.5184020996094,
          276.23712158203125,
          276.62518310546875,
          276.57574462890625,
          276.087158203125,
          276.2373046875,
          277.6293640136719,
          278.01373291015625,
          277.258544921875,
          277.72039794921875,
          276.5788879394531,
          276.1305847167969,
          277.3359375,
          277.2147216796875,
          277.42156982421875,
          277.5869445800781,
          275.9834289550781,
          276.89678955078125,
          277.918212890625,
          277.9333190917969,
          277.9522705078125,
          277.7261962890625,
          278.20263671875,
          278.51025390625,
          277.6827697753906,
          278.0362548828125,
          278.8287353515625,
          279.1043701171875,
          278.5212707519531,
          279.1069641113281,
          277.77886962890625,
          276.5421142578125,
          276.49969482421875,
          277.46026611328125,
          278.530517578125,
          278.652587890625,
          279.0769348144531,
          279.1737365722656,
          278.8191223144531,
          278.3486633300781,
          278.16131591796875,
          278.65679931640625,
          278.7584228515625,
          278.913818359375,
          278.15252685546875,
          278.5122375488281,
          278.74407958984375,
          279.06988525390625,
          279.61773681640625,
          279.6959228515625,
          277.52398681640625,
          278.06201171875,
          279.2669677734375,
          279.32843017578125,
          280.34613037109375,
          279.54571533203125,
          279.3733215332031,
          279.19769287109375,
          278.99456787109375,
          278.6072082519531,
          278.58978271484375,
          278.8323974609375,
          279.339111328125,
          280.34625244140625,
          279.4482727050781,
          279.244873046875,
          279.1227111816406,
          278.2242431640625,
          277.2358093261719,
          277.105712890625,
          277.8240051269531,
          278.07855224609375,
          277.9176025390625,
          277.13433837890625,
          277.1684265136719,
          277.8287048339844,
          277.1157531738281,
          276.1566162109375,
          276.130615234375,
          276.39630126953125,
          276.6476745605469,
          276.35943603515625,
          276.1766662597656,
          275.46307373046875,
          275.5396728515625,
          275.3599853515625,
          276.1846923828125,
          276.2764892578125,
          276.57373046875,
          276.63134765625,
          276.5084533691406,
          276.56561279296875,
          274.71728515625,
          271.95660400390625,
          270.95330810546875,
          271.10870361328125,
          270.66888427734375,
          269.74383544921875,
          269.318603515625,
          270.82769775390625,
          273.6211853027344,
          273.9804382324219,
          274.1946105957031,
          274.3092041015625,
          274.04547119140625,
          273.1554870605469,
          271.0903015136719,
          270.389892578125,
          267.12786865234375,
          266.4398498535156,
          266.611083984375,
          268.4913330078125,
          269.098388671875,
          269.86041259765625,
          268.5514221191406,
          269.4093933105469,
          271.22589111328125,
          270.7652282714844,
          270.2358093261719,
          267.8922424316406,
          264.42266845703125,
          264.87994384765625,
          264.08038330078125,
          262.9657287597656,
          266.834716796875,
          268.56500244140625,
          269.2785949707031,
          267.4185791015625,
          267.4134216308594,
          268.429931640625,
          268.0195617675781,
          267.6689453125,
          267.92657470703125,
          267.846435546875,
          267.6224670410156,
          266.4482727050781,
          267.4310302734375,
          267.8946533203125,
          264.23724365234375,
          263.730224609375,
          263.6793212890625,
          264.1635437011719,
          261.4725646972656,
          261.1291809082031,
          262.4815368652344,
          265.4566650390625,
          265.45880126953125,
          264.12841796875,
          264.4008483886719,
          262.9722595214844,
          262.05035400390625,
          263.82171630859375,
          261.56695556640625,
          261.05487060546875,
          258.7237854003906,
          259.40240478515625,
          261.326171875,
          263.43780517578125,
          262.46539306640625,
          261.4763488769531,
          260.8591003417969,
          259.6202392578125,
          259.081787109375,
          260.007568359375,
          261.86102294921875,
          260.4892272949219,
          259.5455322265625,
          259.70489501953125,
          260.0802917480469,
          259.9368896484375,
          257.9887390136719,
          255.50729370117188,
          255.27178955078125,
          254.9033203125,
          255.80381774902344,
          256.79998779296875,
          257.3538513183594,
          257.6617431640625,
          258.28271484375,
          259.88165283203125,
          259.63067626953125,
          258.7770080566406,
          257.0061950683594,
          256.97552490234375,
          259.2360534667969,
          261.37408447265625,
          260.6098327636719,
          261.16162109375,
          261.5133972167969,
          259.54754638671875,
          259.357177734375,
          259.97088623046875,
          261.28369140625,
          260.174072265625,
          259.80474853515625,
          260.4939270019531,
          261.34893798828125,
          261.58587646484375,
          259.50396728515625,
          259.23272705078125
         ]
        }
       ],
       "layout": {
        "template": {
         "data": {
          "bar": [
           {
            "error_x": {
             "color": "#2a3f5f"
            },
            "error_y": {
             "color": "#2a3f5f"
            },
            "marker": {
             "line": {
              "color": "#E5ECF6",
              "width": 0.5
             },
             "pattern": {
              "fillmode": "overlay",
              "size": 10,
              "solidity": 0.2
             }
            },
            "type": "bar"
           }
          ],
          "barpolar": [
           {
            "marker": {
             "line": {
              "color": "#E5ECF6",
              "width": 0.5
             },
             "pattern": {
              "fillmode": "overlay",
              "size": 10,
              "solidity": 0.2
             }
            },
            "type": "barpolar"
           }
          ],
          "carpet": [
           {
            "aaxis": {
             "endlinecolor": "#2a3f5f",
             "gridcolor": "white",
             "linecolor": "white",
             "minorgridcolor": "white",
             "startlinecolor": "#2a3f5f"
            },
            "baxis": {
             "endlinecolor": "#2a3f5f",
             "gridcolor": "white",
             "linecolor": "white",
             "minorgridcolor": "white",
             "startlinecolor": "#2a3f5f"
            },
            "type": "carpet"
           }
          ],
          "choropleth": [
           {
            "colorbar": {
             "outlinewidth": 0,
             "ticks": ""
            },
            "type": "choropleth"
           }
          ],
          "contour": [
           {
            "colorbar": {
             "outlinewidth": 0,
             "ticks": ""
            },
            "colorscale": [
             [
              0,
              "#0d0887"
             ],
             [
              0.1111111111111111,
              "#46039f"
             ],
             [
              0.2222222222222222,
              "#7201a8"
             ],
             [
              0.3333333333333333,
              "#9c179e"
             ],
             [
              0.4444444444444444,
              "#bd3786"
             ],
             [
              0.5555555555555556,
              "#d8576b"
             ],
             [
              0.6666666666666666,
              "#ed7953"
             ],
             [
              0.7777777777777778,
              "#fb9f3a"
             ],
             [
              0.8888888888888888,
              "#fdca26"
             ],
             [
              1,
              "#f0f921"
             ]
            ],
            "type": "contour"
           }
          ],
          "contourcarpet": [
           {
            "colorbar": {
             "outlinewidth": 0,
             "ticks": ""
            },
            "type": "contourcarpet"
           }
          ],
          "heatmap": [
           {
            "colorbar": {
             "outlinewidth": 0,
             "ticks": ""
            },
            "colorscale": [
             [
              0,
              "#0d0887"
             ],
             [
              0.1111111111111111,
              "#46039f"
             ],
             [
              0.2222222222222222,
              "#7201a8"
             ],
             [
              0.3333333333333333,
              "#9c179e"
             ],
             [
              0.4444444444444444,
              "#bd3786"
             ],
             [
              0.5555555555555556,
              "#d8576b"
             ],
             [
              0.6666666666666666,
              "#ed7953"
             ],
             [
              0.7777777777777778,
              "#fb9f3a"
             ],
             [
              0.8888888888888888,
              "#fdca26"
             ],
             [
              1,
              "#f0f921"
             ]
            ],
            "type": "heatmap"
           }
          ],
          "heatmapgl": [
           {
            "colorbar": {
             "outlinewidth": 0,
             "ticks": ""
            },
            "colorscale": [
             [
              0,
              "#0d0887"
             ],
             [
              0.1111111111111111,
              "#46039f"
             ],
             [
              0.2222222222222222,
              "#7201a8"
             ],
             [
              0.3333333333333333,
              "#9c179e"
             ],
             [
              0.4444444444444444,
              "#bd3786"
             ],
             [
              0.5555555555555556,
              "#d8576b"
             ],
             [
              0.6666666666666666,
              "#ed7953"
             ],
             [
              0.7777777777777778,
              "#fb9f3a"
             ],
             [
              0.8888888888888888,
              "#fdca26"
             ],
             [
              1,
              "#f0f921"
             ]
            ],
            "type": "heatmapgl"
           }
          ],
          "histogram": [
           {
            "marker": {
             "pattern": {
              "fillmode": "overlay",
              "size": 10,
              "solidity": 0.2
             }
            },
            "type": "histogram"
           }
          ],
          "histogram2d": [
           {
            "colorbar": {
             "outlinewidth": 0,
             "ticks": ""
            },
            "colorscale": [
             [
              0,
              "#0d0887"
             ],
             [
              0.1111111111111111,
              "#46039f"
             ],
             [
              0.2222222222222222,
              "#7201a8"
             ],
             [
              0.3333333333333333,
              "#9c179e"
             ],
             [
              0.4444444444444444,
              "#bd3786"
             ],
             [
              0.5555555555555556,
              "#d8576b"
             ],
             [
              0.6666666666666666,
              "#ed7953"
             ],
             [
              0.7777777777777778,
              "#fb9f3a"
             ],
             [
              0.8888888888888888,
              "#fdca26"
             ],
             [
              1,
              "#f0f921"
             ]
            ],
            "type": "histogram2d"
           }
          ],
          "histogram2dcontour": [
           {
            "colorbar": {
             "outlinewidth": 0,
             "ticks": ""
            },
            "colorscale": [
             [
              0,
              "#0d0887"
             ],
             [
              0.1111111111111111,
              "#46039f"
             ],
             [
              0.2222222222222222,
              "#7201a8"
             ],
             [
              0.3333333333333333,
              "#9c179e"
             ],
             [
              0.4444444444444444,
              "#bd3786"
             ],
             [
              0.5555555555555556,
              "#d8576b"
             ],
             [
              0.6666666666666666,
              "#ed7953"
             ],
             [
              0.7777777777777778,
              "#fb9f3a"
             ],
             [
              0.8888888888888888,
              "#fdca26"
             ],
             [
              1,
              "#f0f921"
             ]
            ],
            "type": "histogram2dcontour"
           }
          ],
          "mesh3d": [
           {
            "colorbar": {
             "outlinewidth": 0,
             "ticks": ""
            },
            "type": "mesh3d"
           }
          ],
          "parcoords": [
           {
            "line": {
             "colorbar": {
              "outlinewidth": 0,
              "ticks": ""
             }
            },
            "type": "parcoords"
           }
          ],
          "pie": [
           {
            "automargin": true,
            "type": "pie"
           }
          ],
          "scatter": [
           {
            "fillpattern": {
             "fillmode": "overlay",
             "size": 10,
             "solidity": 0.2
            },
            "type": "scatter"
           }
          ],
          "scatter3d": [
           {
            "line": {
             "colorbar": {
              "outlinewidth": 0,
              "ticks": ""
             }
            },
            "marker": {
             "colorbar": {
              "outlinewidth": 0,
              "ticks": ""
             }
            },
            "type": "scatter3d"
           }
          ],
          "scattercarpet": [
           {
            "marker": {
             "colorbar": {
              "outlinewidth": 0,
              "ticks": ""
             }
            },
            "type": "scattercarpet"
           }
          ],
          "scattergeo": [
           {
            "marker": {
             "colorbar": {
              "outlinewidth": 0,
              "ticks": ""
             }
            },
            "type": "scattergeo"
           }
          ],
          "scattergl": [
           {
            "marker": {
             "colorbar": {
              "outlinewidth": 0,
              "ticks": ""
             }
            },
            "type": "scattergl"
           }
          ],
          "scattermapbox": [
           {
            "marker": {
             "colorbar": {
              "outlinewidth": 0,
              "ticks": ""
             }
            },
            "type": "scattermapbox"
           }
          ],
          "scatterpolar": [
           {
            "marker": {
             "colorbar": {
              "outlinewidth": 0,
              "ticks": ""
             }
            },
            "type": "scatterpolar"
           }
          ],
          "scatterpolargl": [
           {
            "marker": {
             "colorbar": {
              "outlinewidth": 0,
              "ticks": ""
             }
            },
            "type": "scatterpolargl"
           }
          ],
          "scatterternary": [
           {
            "marker": {
             "colorbar": {
              "outlinewidth": 0,
              "ticks": ""
             }
            },
            "type": "scatterternary"
           }
          ],
          "surface": [
           {
            "colorbar": {
             "outlinewidth": 0,
             "ticks": ""
            },
            "colorscale": [
             [
              0,
              "#0d0887"
             ],
             [
              0.1111111111111111,
              "#46039f"
             ],
             [
              0.2222222222222222,
              "#7201a8"
             ],
             [
              0.3333333333333333,
              "#9c179e"
             ],
             [
              0.4444444444444444,
              "#bd3786"
             ],
             [
              0.5555555555555556,
              "#d8576b"
             ],
             [
              0.6666666666666666,
              "#ed7953"
             ],
             [
              0.7777777777777778,
              "#fb9f3a"
             ],
             [
              0.8888888888888888,
              "#fdca26"
             ],
             [
              1,
              "#f0f921"
             ]
            ],
            "type": "surface"
           }
          ],
          "table": [
           {
            "cells": {
             "fill": {
              "color": "#EBF0F8"
             },
             "line": {
              "color": "white"
             }
            },
            "header": {
             "fill": {
              "color": "#C8D4E3"
             },
             "line": {
              "color": "white"
             }
            },
            "type": "table"
           }
          ]
         },
         "layout": {
          "annotationdefaults": {
           "arrowcolor": "#2a3f5f",
           "arrowhead": 0,
           "arrowwidth": 1
          },
          "autotypenumbers": "strict",
          "coloraxis": {
           "colorbar": {
            "outlinewidth": 0,
            "ticks": ""
           }
          },
          "colorscale": {
           "diverging": [
            [
             0,
             "#8e0152"
            ],
            [
             0.1,
             "#c51b7d"
            ],
            [
             0.2,
             "#de77ae"
            ],
            [
             0.3,
             "#f1b6da"
            ],
            [
             0.4,
             "#fde0ef"
            ],
            [
             0.5,
             "#f7f7f7"
            ],
            [
             0.6,
             "#e6f5d0"
            ],
            [
             0.7,
             "#b8e186"
            ],
            [
             0.8,
             "#7fbc41"
            ],
            [
             0.9,
             "#4d9221"
            ],
            [
             1,
             "#276419"
            ]
           ],
           "sequential": [
            [
             0,
             "#0d0887"
            ],
            [
             0.1111111111111111,
             "#46039f"
            ],
            [
             0.2222222222222222,
             "#7201a8"
            ],
            [
             0.3333333333333333,
             "#9c179e"
            ],
            [
             0.4444444444444444,
             "#bd3786"
            ],
            [
             0.5555555555555556,
             "#d8576b"
            ],
            [
             0.6666666666666666,
             "#ed7953"
            ],
            [
             0.7777777777777778,
             "#fb9f3a"
            ],
            [
             0.8888888888888888,
             "#fdca26"
            ],
            [
             1,
             "#f0f921"
            ]
           ],
           "sequentialminus": [
            [
             0,
             "#0d0887"
            ],
            [
             0.1111111111111111,
             "#46039f"
            ],
            [
             0.2222222222222222,
             "#7201a8"
            ],
            [
             0.3333333333333333,
             "#9c179e"
            ],
            [
             0.4444444444444444,
             "#bd3786"
            ],
            [
             0.5555555555555556,
             "#d8576b"
            ],
            [
             0.6666666666666666,
             "#ed7953"
            ],
            [
             0.7777777777777778,
             "#fb9f3a"
            ],
            [
             0.8888888888888888,
             "#fdca26"
            ],
            [
             1,
             "#f0f921"
            ]
           ]
          },
          "colorway": [
           "#636efa",
           "#EF553B",
           "#00cc96",
           "#ab63fa",
           "#FFA15A",
           "#19d3f3",
           "#FF6692",
           "#B6E880",
           "#FF97FF",
           "#FECB52"
          ],
          "font": {
           "color": "#2a3f5f"
          },
          "geo": {
           "bgcolor": "white",
           "lakecolor": "white",
           "landcolor": "#E5ECF6",
           "showlakes": true,
           "showland": true,
           "subunitcolor": "white"
          },
          "hoverlabel": {
           "align": "left"
          },
          "hovermode": "closest",
          "mapbox": {
           "style": "light"
          },
          "paper_bgcolor": "white",
          "plot_bgcolor": "#E5ECF6",
          "polar": {
           "angularaxis": {
            "gridcolor": "white",
            "linecolor": "white",
            "ticks": ""
           },
           "bgcolor": "#E5ECF6",
           "radialaxis": {
            "gridcolor": "white",
            "linecolor": "white",
            "ticks": ""
           }
          },
          "scene": {
           "xaxis": {
            "backgroundcolor": "#E5ECF6",
            "gridcolor": "white",
            "gridwidth": 2,
            "linecolor": "white",
            "showbackground": true,
            "ticks": "",
            "zerolinecolor": "white"
           },
           "yaxis": {
            "backgroundcolor": "#E5ECF6",
            "gridcolor": "white",
            "gridwidth": 2,
            "linecolor": "white",
            "showbackground": true,
            "ticks": "",
            "zerolinecolor": "white"
           },
           "zaxis": {
            "backgroundcolor": "#E5ECF6",
            "gridcolor": "white",
            "gridwidth": 2,
            "linecolor": "white",
            "showbackground": true,
            "ticks": "",
            "zerolinecolor": "white"
           }
          },
          "shapedefaults": {
           "line": {
            "color": "#2a3f5f"
           }
          },
          "ternary": {
           "aaxis": {
            "gridcolor": "white",
            "linecolor": "white",
            "ticks": ""
           },
           "baxis": {
            "gridcolor": "white",
            "linecolor": "white",
            "ticks": ""
           },
           "bgcolor": "#E5ECF6",
           "caxis": {
            "gridcolor": "white",
            "linecolor": "white",
            "ticks": ""
           }
          },
          "title": {
           "x": 0.05
          },
          "xaxis": {
           "automargin": true,
           "gridcolor": "white",
           "linecolor": "white",
           "ticks": "",
           "title": {
            "standoff": 15
           },
           "zerolinecolor": "white",
           "zerolinewidth": 2
          },
          "yaxis": {
           "automargin": true,
           "gridcolor": "white",
           "linecolor": "white",
           "ticks": "",
           "title": {
            "standoff": 15
           },
           "zerolinecolor": "white",
           "zerolinewidth": 2
          }
         }
        }
       }
      }
     },
     "metadata": {},
     "output_type": "display_data"
    }
   ],
   "source": [
    "fig = go.Figure()\n",
    "\n",
    "# Add traces\n",
    "fig.add_trace(go.Scatter(x=date_time[0:365], y=temp_data[0:365],mode = 'markers'))\n",
    "\n",
    "fig.show()"
   ]
  },
  {
   "cell_type": "code",
   "execution_count": 11,
   "metadata": {},
   "outputs": [
    {
     "name": "stdout",
     "output_type": "stream",
     "text": [
      "['2015-01-01T12:00:00.000000000' '2015-01-02T12:00:00.000000000'\n",
      " '2015-01-03T12:00:00.000000000' '2015-01-04T12:00:00.000000000'\n",
      " '2015-01-05T12:00:00.000000000' '2015-01-06T12:00:00.000000000'\n",
      " '2015-01-07T12:00:00.000000000' '2015-01-08T12:00:00.000000000'\n",
      " '2015-01-09T12:00:00.000000000' '2015-01-10T12:00:00.000000000'\n",
      " '2015-01-11T12:00:00.000000000' '2015-01-12T12:00:00.000000000'\n",
      " '2015-01-13T12:00:00.000000000' '2015-01-14T12:00:00.000000000'\n",
      " '2015-01-15T12:00:00.000000000' '2015-01-16T12:00:00.000000000'\n",
      " '2015-01-17T12:00:00.000000000' '2015-01-18T12:00:00.000000000'\n",
      " '2015-01-19T12:00:00.000000000' '2015-01-20T12:00:00.000000000'\n",
      " '2015-01-21T12:00:00.000000000' '2015-01-22T12:00:00.000000000'\n",
      " '2015-01-23T12:00:00.000000000' '2015-01-24T12:00:00.000000000'\n",
      " '2015-01-25T12:00:00.000000000' '2015-01-26T12:00:00.000000000'\n",
      " '2015-01-27T12:00:00.000000000' '2015-01-28T12:00:00.000000000'\n",
      " '2015-01-29T12:00:00.000000000' '2015-01-30T12:00:00.000000000'\n",
      " '2015-01-31T12:00:00.000000000' '2015-02-01T12:00:00.000000000'\n",
      " '2015-02-02T12:00:00.000000000' '2015-02-03T12:00:00.000000000'\n",
      " '2015-02-04T12:00:00.000000000' '2015-02-05T12:00:00.000000000'\n",
      " '2015-02-06T12:00:00.000000000' '2015-02-07T12:00:00.000000000'\n",
      " '2015-02-08T12:00:00.000000000' '2015-02-09T12:00:00.000000000'\n",
      " '2015-02-10T12:00:00.000000000' '2015-02-11T12:00:00.000000000'\n",
      " '2015-02-12T12:00:00.000000000' '2015-02-13T12:00:00.000000000'\n",
      " '2015-02-14T12:00:00.000000000' '2015-02-15T12:00:00.000000000'\n",
      " '2015-02-16T12:00:00.000000000' '2015-02-17T12:00:00.000000000'\n",
      " '2015-02-18T12:00:00.000000000' '2015-02-19T12:00:00.000000000'\n",
      " '2015-02-20T12:00:00.000000000' '2015-02-21T12:00:00.000000000'\n",
      " '2015-02-22T12:00:00.000000000' '2015-02-23T12:00:00.000000000'\n",
      " '2015-02-24T12:00:00.000000000' '2015-02-25T12:00:00.000000000'\n",
      " '2015-02-26T12:00:00.000000000' '2015-02-27T12:00:00.000000000'\n",
      " '2015-02-28T12:00:00.000000000' '2015-03-01T12:00:00.000000000'\n",
      " '2015-03-02T12:00:00.000000000' '2015-03-03T12:00:00.000000000'\n",
      " '2015-03-04T12:00:00.000000000' '2015-03-05T12:00:00.000000000'\n",
      " '2015-03-06T12:00:00.000000000' '2015-03-07T12:00:00.000000000'\n",
      " '2015-03-08T12:00:00.000000000' '2015-03-09T12:00:00.000000000'\n",
      " '2015-03-10T12:00:00.000000000' '2015-03-11T12:00:00.000000000'\n",
      " '2015-03-12T12:00:00.000000000' '2015-03-13T12:00:00.000000000'\n",
      " '2015-03-14T12:00:00.000000000' '2015-03-15T12:00:00.000000000'\n",
      " '2015-03-16T12:00:00.000000000' '2015-03-17T12:00:00.000000000'\n",
      " '2015-03-18T12:00:00.000000000' '2015-03-19T12:00:00.000000000'\n",
      " '2015-03-20T12:00:00.000000000' '2015-03-21T12:00:00.000000000'\n",
      " '2015-03-22T12:00:00.000000000' '2015-03-23T12:00:00.000000000'\n",
      " '2015-03-24T12:00:00.000000000' '2015-03-25T12:00:00.000000000'\n",
      " '2015-03-26T12:00:00.000000000' '2015-03-27T12:00:00.000000000'\n",
      " '2015-03-28T12:00:00.000000000' '2015-03-29T12:00:00.000000000'\n",
      " '2015-03-30T12:00:00.000000000' '2015-03-31T12:00:00.000000000'\n",
      " '2015-04-01T12:00:00.000000000' '2015-04-02T12:00:00.000000000'\n",
      " '2015-04-03T12:00:00.000000000' '2015-04-04T12:00:00.000000000'\n",
      " '2015-04-05T12:00:00.000000000' '2015-04-06T12:00:00.000000000'\n",
      " '2015-04-07T12:00:00.000000000' '2015-04-08T12:00:00.000000000'\n",
      " '2015-04-09T12:00:00.000000000' '2015-04-10T12:00:00.000000000'\n",
      " '2015-04-11T12:00:00.000000000' '2015-04-12T12:00:00.000000000'\n",
      " '2015-04-13T12:00:00.000000000' '2015-04-14T12:00:00.000000000'\n",
      " '2015-04-15T12:00:00.000000000' '2015-04-16T12:00:00.000000000'\n",
      " '2015-04-17T12:00:00.000000000' '2015-04-18T12:00:00.000000000'\n",
      " '2015-04-19T12:00:00.000000000' '2015-04-20T12:00:00.000000000'\n",
      " '2015-04-21T12:00:00.000000000' '2015-04-22T12:00:00.000000000'\n",
      " '2015-04-23T12:00:00.000000000' '2015-04-24T12:00:00.000000000'\n",
      " '2015-04-25T12:00:00.000000000' '2015-04-26T12:00:00.000000000'\n",
      " '2015-04-27T12:00:00.000000000' '2015-04-28T12:00:00.000000000'\n",
      " '2015-04-29T12:00:00.000000000' '2015-04-30T12:00:00.000000000'\n",
      " '2015-05-01T12:00:00.000000000' '2015-05-02T12:00:00.000000000'\n",
      " '2015-05-03T12:00:00.000000000' '2015-05-04T12:00:00.000000000'\n",
      " '2015-05-05T12:00:00.000000000' '2015-05-06T12:00:00.000000000'\n",
      " '2015-05-07T12:00:00.000000000' '2015-05-08T12:00:00.000000000'\n",
      " '2015-05-09T12:00:00.000000000' '2015-05-10T12:00:00.000000000'\n",
      " '2015-05-11T12:00:00.000000000' '2015-05-12T12:00:00.000000000'\n",
      " '2015-05-13T12:00:00.000000000' '2015-05-14T12:00:00.000000000'\n",
      " '2015-05-15T12:00:00.000000000' '2015-05-16T12:00:00.000000000'\n",
      " '2015-05-17T12:00:00.000000000' '2015-05-18T12:00:00.000000000'\n",
      " '2015-05-19T12:00:00.000000000' '2015-05-20T12:00:00.000000000'\n",
      " '2015-05-21T12:00:00.000000000' '2015-05-22T12:00:00.000000000'\n",
      " '2015-05-23T12:00:00.000000000' '2015-05-24T12:00:00.000000000'\n",
      " '2015-05-25T12:00:00.000000000' '2015-05-26T12:00:00.000000000'\n",
      " '2015-05-27T12:00:00.000000000' '2015-05-28T12:00:00.000000000'\n",
      " '2015-05-29T12:00:00.000000000' '2015-05-30T12:00:00.000000000'\n",
      " '2015-05-31T12:00:00.000000000' '2015-06-01T12:00:00.000000000'\n",
      " '2015-06-02T12:00:00.000000000' '2015-06-03T12:00:00.000000000'\n",
      " '2015-06-04T12:00:00.000000000' '2015-06-05T12:00:00.000000000'\n",
      " '2015-06-06T12:00:00.000000000' '2015-06-07T12:00:00.000000000'\n",
      " '2015-06-08T12:00:00.000000000' '2015-06-09T12:00:00.000000000'\n",
      " '2015-06-10T12:00:00.000000000' '2015-06-11T12:00:00.000000000'\n",
      " '2015-06-12T12:00:00.000000000' '2015-06-13T12:00:00.000000000'\n",
      " '2015-06-14T12:00:00.000000000' '2015-06-15T12:00:00.000000000'\n",
      " '2015-06-16T12:00:00.000000000' '2015-06-17T12:00:00.000000000'\n",
      " '2015-06-18T12:00:00.000000000' '2015-06-19T12:00:00.000000000'\n",
      " '2015-06-20T12:00:00.000000000' '2015-06-21T12:00:00.000000000'\n",
      " '2015-06-22T12:00:00.000000000' '2015-06-23T12:00:00.000000000'\n",
      " '2015-06-24T12:00:00.000000000' '2015-06-25T12:00:00.000000000'\n",
      " '2015-06-26T12:00:00.000000000' '2015-06-27T12:00:00.000000000'\n",
      " '2015-06-28T12:00:00.000000000' '2015-06-29T12:00:00.000000000'\n",
      " '2015-06-30T12:00:00.000000000' '2015-07-01T12:00:00.000000000'\n",
      " '2015-07-02T12:00:00.000000000' '2015-07-03T12:00:00.000000000'\n",
      " '2015-07-04T12:00:00.000000000' '2015-07-05T12:00:00.000000000'\n",
      " '2015-07-06T12:00:00.000000000' '2015-07-07T12:00:00.000000000'\n",
      " '2015-07-08T12:00:00.000000000' '2015-07-09T12:00:00.000000000'\n",
      " '2015-07-10T12:00:00.000000000' '2015-07-11T12:00:00.000000000'\n",
      " '2015-07-12T12:00:00.000000000' '2015-07-13T12:00:00.000000000'\n",
      " '2015-07-14T12:00:00.000000000' '2015-07-15T12:00:00.000000000'\n",
      " '2015-07-16T12:00:00.000000000' '2015-07-17T12:00:00.000000000'\n",
      " '2015-07-18T12:00:00.000000000' '2015-07-19T12:00:00.000000000'\n",
      " '2015-07-20T12:00:00.000000000' '2015-07-21T12:00:00.000000000'\n",
      " '2015-07-22T12:00:00.000000000' '2015-07-23T12:00:00.000000000'\n",
      " '2015-07-24T12:00:00.000000000' '2015-07-25T12:00:00.000000000'\n",
      " '2015-07-26T12:00:00.000000000' '2015-07-27T12:00:00.000000000'\n",
      " '2015-07-28T12:00:00.000000000' '2015-07-29T12:00:00.000000000'\n",
      " '2015-07-30T12:00:00.000000000' '2015-07-31T12:00:00.000000000'\n",
      " '2015-08-01T12:00:00.000000000' '2015-08-02T12:00:00.000000000'\n",
      " '2015-08-03T12:00:00.000000000' '2015-08-04T12:00:00.000000000'\n",
      " '2015-08-05T12:00:00.000000000' '2015-08-06T12:00:00.000000000'\n",
      " '2015-08-07T12:00:00.000000000' '2015-08-08T12:00:00.000000000'\n",
      " '2015-08-09T12:00:00.000000000' '2015-08-10T12:00:00.000000000'\n",
      " '2015-08-11T12:00:00.000000000' '2015-08-12T12:00:00.000000000'\n",
      " '2015-08-13T12:00:00.000000000' '2015-08-14T12:00:00.000000000'\n",
      " '2015-08-15T12:00:00.000000000' '2015-08-16T12:00:00.000000000'\n",
      " '2015-08-17T12:00:00.000000000' '2015-08-18T12:00:00.000000000'\n",
      " '2015-08-19T12:00:00.000000000' '2015-08-20T12:00:00.000000000'\n",
      " '2015-08-21T12:00:00.000000000' '2015-08-22T12:00:00.000000000'\n",
      " '2015-08-23T12:00:00.000000000' '2015-08-24T12:00:00.000000000'\n",
      " '2015-08-25T12:00:00.000000000' '2015-08-26T12:00:00.000000000'\n",
      " '2015-08-27T12:00:00.000000000' '2015-08-28T12:00:00.000000000'\n",
      " '2015-08-29T12:00:00.000000000' '2015-08-30T12:00:00.000000000'\n",
      " '2015-08-31T12:00:00.000000000' '2015-09-01T12:00:00.000000000'\n",
      " '2015-09-02T12:00:00.000000000' '2015-09-03T12:00:00.000000000'\n",
      " '2015-09-04T12:00:00.000000000' '2015-09-05T12:00:00.000000000'\n",
      " '2015-09-06T12:00:00.000000000' '2015-09-07T12:00:00.000000000'\n",
      " '2015-09-08T12:00:00.000000000' '2015-09-09T12:00:00.000000000'\n",
      " '2015-09-10T12:00:00.000000000' '2015-09-11T12:00:00.000000000'\n",
      " '2015-09-12T12:00:00.000000000' '2015-09-13T12:00:00.000000000'\n",
      " '2015-09-14T12:00:00.000000000' '2015-09-15T12:00:00.000000000'\n",
      " '2015-09-16T12:00:00.000000000' '2015-09-17T12:00:00.000000000'\n",
      " '2015-09-18T12:00:00.000000000' '2015-09-19T12:00:00.000000000'\n",
      " '2015-09-20T12:00:00.000000000' '2015-09-21T12:00:00.000000000'\n",
      " '2015-09-22T12:00:00.000000000' '2015-09-23T12:00:00.000000000'\n",
      " '2015-09-24T12:00:00.000000000' '2015-09-25T12:00:00.000000000'\n",
      " '2015-09-26T12:00:00.000000000' '2015-09-27T12:00:00.000000000'\n",
      " '2015-09-28T12:00:00.000000000' '2015-09-29T12:00:00.000000000'\n",
      " '2015-09-30T12:00:00.000000000' '2015-10-01T12:00:00.000000000'\n",
      " '2015-10-02T12:00:00.000000000' '2015-10-03T12:00:00.000000000'\n",
      " '2015-10-04T12:00:00.000000000' '2015-10-05T12:00:00.000000000'\n",
      " '2015-10-06T12:00:00.000000000' '2015-10-07T12:00:00.000000000'\n",
      " '2015-10-08T12:00:00.000000000' '2015-10-09T12:00:00.000000000'\n",
      " '2015-10-10T12:00:00.000000000' '2015-10-11T12:00:00.000000000'\n",
      " '2015-10-12T12:00:00.000000000' '2015-10-13T12:00:00.000000000'\n",
      " '2015-10-14T12:00:00.000000000' '2015-10-15T12:00:00.000000000'\n",
      " '2015-10-16T12:00:00.000000000' '2015-10-17T12:00:00.000000000'\n",
      " '2015-10-18T12:00:00.000000000' '2015-10-19T12:00:00.000000000'\n",
      " '2015-10-20T12:00:00.000000000' '2015-10-21T12:00:00.000000000'\n",
      " '2015-10-22T12:00:00.000000000' '2015-10-23T12:00:00.000000000'\n",
      " '2015-10-24T12:00:00.000000000' '2015-10-25T12:00:00.000000000'\n",
      " '2015-10-26T12:00:00.000000000' '2015-10-27T12:00:00.000000000'\n",
      " '2015-10-28T12:00:00.000000000' '2015-10-29T12:00:00.000000000'\n",
      " '2015-10-30T12:00:00.000000000' '2015-10-31T12:00:00.000000000'\n",
      " '2015-11-01T12:00:00.000000000' '2015-11-02T12:00:00.000000000'\n",
      " '2015-11-03T12:00:00.000000000' '2015-11-04T12:00:00.000000000'\n",
      " '2015-11-05T12:00:00.000000000' '2015-11-06T12:00:00.000000000'\n",
      " '2015-11-07T12:00:00.000000000' '2015-11-08T12:00:00.000000000'\n",
      " '2015-11-09T12:00:00.000000000' '2015-11-10T12:00:00.000000000'\n",
      " '2015-11-11T12:00:00.000000000' '2015-11-12T12:00:00.000000000'\n",
      " '2015-11-13T12:00:00.000000000' '2015-11-14T12:00:00.000000000'\n",
      " '2015-11-15T12:00:00.000000000' '2015-11-16T12:00:00.000000000'\n",
      " '2015-11-17T12:00:00.000000000' '2015-11-18T12:00:00.000000000'\n",
      " '2015-11-19T12:00:00.000000000' '2015-11-20T12:00:00.000000000'\n",
      " '2015-11-21T12:00:00.000000000' '2015-11-22T12:00:00.000000000'\n",
      " '2015-11-23T12:00:00.000000000' '2015-11-24T12:00:00.000000000'\n",
      " '2015-11-25T12:00:00.000000000' '2015-11-26T12:00:00.000000000'\n",
      " '2015-11-27T12:00:00.000000000' '2015-11-28T12:00:00.000000000'\n",
      " '2015-11-29T12:00:00.000000000' '2015-11-30T12:00:00.000000000'\n",
      " '2015-12-01T12:00:00.000000000' '2015-12-02T12:00:00.000000000'\n",
      " '2015-12-03T12:00:00.000000000' '2015-12-04T12:00:00.000000000'\n",
      " '2015-12-05T12:00:00.000000000' '2015-12-06T12:00:00.000000000'\n",
      " '2015-12-07T12:00:00.000000000' '2015-12-08T12:00:00.000000000'\n",
      " '2015-12-09T12:00:00.000000000' '2015-12-10T12:00:00.000000000'\n",
      " '2015-12-11T12:00:00.000000000' '2015-12-12T12:00:00.000000000'\n",
      " '2015-12-13T12:00:00.000000000' '2015-12-14T12:00:00.000000000'\n",
      " '2015-12-15T12:00:00.000000000' '2015-12-16T12:00:00.000000000'\n",
      " '2015-12-17T12:00:00.000000000' '2015-12-18T12:00:00.000000000'\n",
      " '2015-12-19T12:00:00.000000000' '2015-12-20T12:00:00.000000000'\n",
      " '2015-12-21T12:00:00.000000000' '2015-12-22T12:00:00.000000000'\n",
      " '2015-12-23T12:00:00.000000000' '2015-12-24T12:00:00.000000000'\n",
      " '2015-12-25T12:00:00.000000000' '2015-12-26T12:00:00.000000000'\n",
      " '2015-12-27T12:00:00.000000000' '2015-12-28T12:00:00.000000000'\n",
      " '2015-12-29T12:00:00.000000000' '2015-12-30T12:00:00.000000000'\n",
      " '2015-12-31T12:00:00.000000000']\n"
     ]
    }
   ],
   "source": [
    "print(date_time)"
   ]
  },
  {
   "cell_type": "code",
   "execution_count": null,
   "metadata": {},
   "outputs": [],
   "source": []
  }
 ],
 "metadata": {
  "kernelspec": {
   "display_name": "Python 3.9.13 ('base')",
   "language": "python",
   "name": "python3"
  },
  "language_info": {
   "codemirror_mode": {
    "name": "ipython",
    "version": 3
   },
   "file_extension": ".py",
   "mimetype": "text/x-python",
   "name": "python",
   "nbconvert_exporter": "python",
   "pygments_lexer": "ipython3",
   "version": "3.9.13"
  },
  "orig_nbformat": 4,
  "vscode": {
   "interpreter": {
    "hash": "c6e4e9f98eb68ad3b7c296f83d20e6de614cb42e90992a65aa266555a3137d0d"
   }
  }
 },
 "nbformat": 4,
 "nbformat_minor": 2
}
