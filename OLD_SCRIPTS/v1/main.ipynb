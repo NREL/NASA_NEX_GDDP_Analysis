{
 "cells": [
  {
   "cell_type": "code",
   "execution_count": 1,
   "metadata": {},
   "outputs": [
    {
     "name": "stdout",
     "output_type": "stream",
     "text": [
      "['ACCESS-CM2']\n"
     ]
    }
   ],
   "source": [
    "import xarray as xr\n",
    "import numpy as np\n",
    "import matplotlib.pyplot as plt\n",
    "import plotly.graph_objects as go\n",
    "import plotly.express as px\n",
    "import os   \n",
    "import pandas as pd\n",
    "import datetime \n",
    "import math\n",
    "import time\n",
    "from sklearn.linear_model import LinearRegression\n",
    "\n",
    "# Threshold info\n",
    "thresholds_dict = {\n",
    "    'annual_threshold_tasmax_high' : {'variable': 'tasmax', 'value': 35, 'min_max_val': 'greater_than', 'b_consecutive': False},\n",
    "    'annual_threshold_tasmin_high' : {'variable': 'tasmin', 'value': 35, 'min_max_val': 'greater_than', 'b_consecutive': False},\n",
    "    'annual_threshold_tasmax_low' : {'variable': 'tasmax', 'value': 0, 'min_max_val': 'less_than', 'b_consecutive': False},\n",
    "    'annual_threshold_tasmin_low' : {'variable': 'tasmin', 'value': 0, 'min_max_val': 'less_than', 'b_consecutive': False},\n",
    "    # For now keep heat index to maximum values and number of residence days there\n",
    "    'annual_threshold_heatindex_high': {'variable': 'heatindex', 'value': 100, 'min_max_val': 'greater_than', 'b_consecutive': False},\n",
    "    'annual_threshold_precipitation_high': {'variable': 'pr', 'value': 1, 'min_max_val': 'greater_than', 'b_consecutive': False},\n",
    "    'annual_threshold_precipitation_low': {'variable': 'pr', 'value': 1e-3, 'min_max_val': 'less_than', 'b_consecutive': False},\n",
    "    'annual_threshold_consecutive_precipitation_high': {'variable': 'pr', 'value': 1, 'min_max_val': 'greater_than', 'b_consecutive': True},\n",
    "    'annual_threshold_consecutive_precipitation_low': {'variable': 'pr', 'value': 1e-3, 'min_max_val': 'less_than', 'b_consecutive': True},\n",
    "}\n",
    "\n",
    "# Loading Local Information\n",
    "location_name = 'Golden, CO'\n",
    "coord = (39.74256572165156, -105.16857014167543)\n",
    "location_name = 'Langley Research Center'\n",
    "coord = (37.088061583314044, -76.3797854741248)\n",
    "'''average_cold = -1.33\n",
    "average_hot = 15.37\n",
    "average_cold = 0.0\n",
    "average_hot = 0.0'''\n",
    "bool_all_files = True\n",
    "path = 'NEX-GDDP-CMIP6/'\n",
    "\n",
    "# Choose between all files or just a select few\n",
    "if bool_all_files:\n",
    "    # In the future this will be a os.listdir(), for now manually enter names\n",
    "    test_list = os.listdir('NEX-GDDP-CMIP6')\n",
    "    model_experiment_names = []\n",
    "    for item in test_list:\n",
    "        if 'download' in item:\n",
    "            continue\n",
    "        elif '.' in item:\n",
    "            continue\n",
    "        else:\n",
    "            model_experiment_names.append(item)\n",
    "\n",
    "else:\n",
    "    model_experiment_names = ['EC-Earth3']\n",
    "\n",
    "experiments = ['ssp245', 'ssp585']\n",
    "model_experiment_names.sort()\n",
    "print(model_experiment_names)\n"
   ]
  },
  {
   "cell_type": "code",
   "execution_count": 2,
   "metadata": {},
   "outputs": [
    {
     "name": "stdout",
     "output_type": "stream",
     "text": [
      "Starting Analysis Loop\n",
      "Data Compiling for  ACCESS-CM2-ssp245\n",
      "Data Compiled!\n",
      "Analysis Complete\n",
      "Graphing Complete\n",
      "Data Compiling for  ACCESS-CM2-ssp585\n",
      "Data Compiled!\n",
      "Analysis Complete\n",
      "Graphing Complete\n"
     ]
    }
   ],
   "source": [
    "from load_model import load_model\n",
    "from analyze_model import analyze_model\n",
    "from graphing import *\n",
    "\n",
    "# Getting the list of model names\n",
    "model_list = []\n",
    "for model_name in model_experiment_names:\n",
    "    for experiment in experiments:\n",
    "        model_to_read = load_model(path+model_name, model_name+'-'+experiment, experiment)\n",
    "        model_list.append(model_to_read)\n",
    "\n",
    "print('Starting Analysis Loop')\n",
    "for item in model_list:\n",
    "    # Compiling the data\n",
    "    item.compile_data(coord)\n",
    "\n",
    "    # Analyzing the Data\n",
    "    try:\n",
    "        analyze_model(item, thresholds_dict)\n",
    "        path = 'output_data/'\n",
    "        item.df_decade.to_excel(path+item.model_name+'_decade_values.xlsx')\n",
    "    except: \n",
    "        print('Cannot analyze model: ', item.model_name, ' insufficient data')\n",
    "\n",
    "    # Graphing the data\n",
    "    variable_list = item.df_decade.columns\n",
    "    for variable in variable_list:\n",
    "        if 'Days' in variable:\n",
    "            unit = 'Days per Year'\n",
    "        elif 'Frequency' in variable:\n",
    "            unit = 'Average Occurrences per Year'\n",
    "        elif 'Duration' in variable:\n",
    "            unit = 'Days'\n",
    "        elif ('temperature' in variable) or ('Temperature' in variable):\n",
    "            unit = 'Temperature (°C)'\n",
    "        elif ('precipitation' in variable) or ('Precipitation' in variable):\n",
    "            unit = 'Precipitation (inches)'\n",
    "        else:\n",
    "            unit = 'Not Assigned'\n",
    "        graph_write_decade_variable(item, variable, unit)    \n",
    "    print('Graphing Complete')"
   ]
  },
  {
   "cell_type": "code",
   "execution_count": null,
   "metadata": {},
   "outputs": [],
   "source": []
  },
  {
   "cell_type": "code",
   "execution_count": null,
   "metadata": {},
   "outputs": [],
   "source": []
  }
 ],
 "metadata": {
  "kernelspec": {
   "display_name": "Python 3.9.13 ('base')",
   "language": "python",
   "name": "python3"
  },
  "language_info": {
   "codemirror_mode": {
    "name": "ipython",
    "version": 3
   },
   "file_extension": ".py",
   "mimetype": "text/x-python",
   "name": "python",
   "nbconvert_exporter": "python",
   "pygments_lexer": "ipython3",
   "version": "3.9.13"
  },
  "orig_nbformat": 4,
  "vscode": {
   "interpreter": {
    "hash": "c6e4e9f98eb68ad3b7c296f83d20e6de614cb42e90992a65aa266555a3137d0d"
   }
  }
 },
 "nbformat": 4,
 "nbformat_minor": 2
}
